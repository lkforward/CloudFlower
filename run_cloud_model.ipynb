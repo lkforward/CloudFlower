{
  "nbformat": 4,
  "nbformat_minor": 0,
  "metadata": {
    "colab": {
      "name": "run_cloud_model.ipynb",
      "provenance": [],
      "collapsed_sections": [
        "76uu3wAFBCpw",
        "jk4m76X-s8Ga"
      ],
      "include_colab_link": true
    },
    "kernelspec": {
      "name": "python3",
      "display_name": "Python 3"
    },
    "accelerator": "GPU"
  },
  "cells": [
    {
      "cell_type": "markdown",
      "metadata": {
        "id": "view-in-github",
        "colab_type": "text"
      },
      "source": [
        "<a href=\"https://colab.research.google.com/github/lkforward/flower/blob/master/run_cloud_model.ipynb\" target=\"_parent\"><img src=\"https://colab.research.google.com/assets/colab-badge.svg\" alt=\"Open In Colab\"/></a>"
      ]
    },
    {
      "cell_type": "code",
      "metadata": {
        "id": "nIqiGJi69ZBy",
        "colab_type": "code",
        "outputId": "9b228305-fd36-4dc8-d1d9-ed9cfd4b70cd",
        "colab": {
          "base_uri": "https://localhost:8080/",
          "height": 79
        }
      },
      "source": [
        "import tensorflow as tf\n",
        "tf.test.gpu_device_name()"
      ],
      "execution_count": 1,
      "outputs": [
        {
          "output_type": "display_data",
          "data": {
            "text/html": [
              "<p style=\"color: red;\">\n",
              "The default version of TensorFlow in Colab will soon switch to TensorFlow 2.x.<br>\n",
              "We recommend you <a href=\"https://www.tensorflow.org/guide/migrate\" target=\"_blank\">upgrade</a> now \n",
              "or ensure your notebook will continue to use TensorFlow 1.x via the <code>%tensorflow_version 1.x</code> magic:\n",
              "<a href=\"https://colab.research.google.com/notebooks/tensorflow_version.ipynb\" target=\"_blank\">more info</a>.</p>\n"
            ],
            "text/plain": [
              "<IPython.core.display.HTML object>"
            ]
          },
          "metadata": {
            "tags": []
          }
        },
        {
          "output_type": "execute_result",
          "data": {
            "text/plain": [
              "'/device:GPU:0'"
            ]
          },
          "metadata": {
            "tags": []
          },
          "execution_count": 1
        }
      ]
    },
    {
      "cell_type": "code",
      "metadata": {
        "id": "ECF3WDad4p8d",
        "colab_type": "code",
        "outputId": "fdf6f3b8-62b6-4be6-d0e8-0bc8e86ddf40",
        "colab": {
          "base_uri": "https://localhost:8080/",
          "height": 121
        }
      },
      "source": [
        "from google.colab import drive\n",
        "\n",
        "drive.mount('/content/gdrive', force_remount=True)"
      ],
      "execution_count": 2,
      "outputs": [
        {
          "output_type": "stream",
          "text": [
            "Go to this URL in a browser: https://accounts.google.com/o/oauth2/auth?client_id=947318989803-6bn6qk8qdgf4n4g3pfee6491hc0brc4i.apps.googleusercontent.com&redirect_uri=urn%3Aietf%3Awg%3Aoauth%3A2.0%3Aoob&scope=email%20https%3A%2F%2Fwww.googleapis.com%2Fauth%2Fdocs.test%20https%3A%2F%2Fwww.googleapis.com%2Fauth%2Fdrive%20https%3A%2F%2Fwww.googleapis.com%2Fauth%2Fdrive.photos.readonly%20https%3A%2F%2Fwww.googleapis.com%2Fauth%2Fpeopleapi.readonly&response_type=code\n",
            "\n",
            "Enter your authorization code:\n",
            "··········\n",
            "Mounted at /content/gdrive\n"
          ],
          "name": "stdout"
        }
      ]
    },
    {
      "cell_type": "code",
      "metadata": {
        "id": "Y-p1qwRY34Gc",
        "colab_type": "code",
        "colab": {
          "base_uri": "https://localhost:8080/",
          "height": 1000
        },
        "outputId": "b6b3e45d-abc6-44bb-8845-4a8e3ece1087"
      },
      "source": [
        "!pip install catalyst\n",
        "!pip install pretrainedmodels\n",
        "!pip install git+https://github.com/qubvel/segmentation_models.pytorch\n",
        "!pip install pytorch_toolbelt\n",
        "!pip install torchvision==0.4\n",
        "!pip install albumentations==0.3.2"
      ],
      "execution_count": 3,
      "outputs": [
        {
          "output_type": "stream",
          "text": [
            "Collecting catalyst\n",
            "\u001b[?25l  Downloading https://files.pythonhosted.org/packages/34/c2/1bba0179006810210b256e2201e002507e36eae121c171ea31533a87a5d3/catalyst-19.11.2-py2.py3-none-any.whl (290kB)\n",
            "\u001b[K     |████████████████████████████████| 296kB 3.5MB/s \n",
            "\u001b[?25hRequirement already satisfied: scikit-learn>=0.20 in /usr/local/lib/python3.6/dist-packages (from catalyst) (0.21.3)\n",
            "Requirement already satisfied: tensorboard in /usr/local/lib/python3.6/dist-packages (from catalyst) (1.15.0)\n",
            "Collecting tqdm>=4.33.0\n",
            "\u001b[?25l  Downloading https://files.pythonhosted.org/packages/b9/08/8505f192efc72bfafec79655e1d8351d219e2b80b0dec4ae71f50934c17a/tqdm-4.38.0-py2.py3-none-any.whl (53kB)\n",
            "\u001b[K     |████████████████████████████████| 61kB 6.3MB/s \n",
            "\u001b[?25hRequirement already satisfied: torch>=1.0.0 in /usr/local/lib/python3.6/dist-packages (from catalyst) (1.3.1+cu100)\n",
            "Requirement already satisfied: opencv-python in /usr/local/lib/python3.6/dist-packages (from catalyst) (3.4.7.28)\n",
            "Requirement already satisfied: torchvision>=0.2.1 in /usr/local/lib/python3.6/dist-packages (from catalyst) (0.4.2+cu100)\n",
            "Requirement already satisfied: scikit-image>=0.14.2 in /usr/local/lib/python3.6/dist-packages (from catalyst) (0.15.0)\n",
            "Requirement already satisfied: imageio in /usr/local/lib/python3.6/dist-packages (from catalyst) (2.4.1)\n",
            "Requirement already satisfied: PyYAML in /usr/local/lib/python3.6/dist-packages (from catalyst) (3.13)\n",
            "Requirement already satisfied: plotly>=4.1.0 in /usr/local/lib/python3.6/dist-packages (from catalyst) (4.1.1)\n",
            "Requirement already satisfied: packaging in /usr/local/lib/python3.6/dist-packages (from catalyst) (19.2)\n",
            "Requirement already satisfied: numpy>=1.16.4 in /usr/local/lib/python3.6/dist-packages (from catalyst) (1.17.3)\n",
            "Requirement already satisfied: seaborn in /usr/local/lib/python3.6/dist-packages (from catalyst) (0.9.0)\n",
            "Requirement already satisfied: ipython in /usr/local/lib/python3.6/dist-packages (from catalyst) (5.5.0)\n",
            "Requirement already satisfied: pandas>=0.22 in /usr/local/lib/python3.6/dist-packages (from catalyst) (0.25.3)\n",
            "Collecting tensorboardX\n",
            "\u001b[?25l  Downloading https://files.pythonhosted.org/packages/a6/5c/e918d9f190baab8d55bad52840d8091dd5114cc99f03eaa6d72d404503cc/tensorboardX-1.9-py2.py3-none-any.whl (190kB)\n",
            "\u001b[K     |████████████████████████████████| 194kB 45.2MB/s \n",
            "\u001b[?25hCollecting safitty>=1.2.3\n",
            "  Downloading https://files.pythonhosted.org/packages/37/ea/51fedb7c8802b09d557a04db13661939bb483f40e1450958961ce50f15d6/safitty-1.3-py3-none-any.whl\n",
            "Requirement already satisfied: matplotlib in /usr/local/lib/python3.6/dist-packages (from catalyst) (3.1.1)\n",
            "Collecting GitPython>=2.1.11\n",
            "\u001b[?25l  Downloading https://files.pythonhosted.org/packages/aa/25/9fd9f0b05408021736a22ae73f837152c132e4ea85cdd71d186e24efec31/GitPython-3.0.4-py3-none-any.whl (454kB)\n",
            "\u001b[K     |████████████████████████████████| 460kB 29.8MB/s \n",
            "\u001b[?25hCollecting crc32c>=1.7\n",
            "  Downloading https://files.pythonhosted.org/packages/65/7f/4b4dc07c8fdd391c5bdf2e91d495bcfe9d8976ce7deb3439c6007c9c3625/crc32c-1.7-cp36-cp36m-manylinux1_x86_64.whl\n",
            "Requirement already satisfied: joblib>=0.11 in /usr/local/lib/python3.6/dist-packages (from scikit-learn>=0.20->catalyst) (0.14.0)\n",
            "Requirement already satisfied: scipy>=0.17.0 in /usr/local/lib/python3.6/dist-packages (from scikit-learn>=0.20->catalyst) (1.3.1)\n",
            "Requirement already satisfied: grpcio>=1.6.3 in /usr/local/lib/python3.6/dist-packages (from tensorboard->catalyst) (1.15.0)\n",
            "Requirement already satisfied: protobuf>=3.6.0 in /usr/local/lib/python3.6/dist-packages (from tensorboard->catalyst) (3.10.0)\n",
            "Requirement already satisfied: werkzeug>=0.11.15 in /usr/local/lib/python3.6/dist-packages (from tensorboard->catalyst) (0.16.0)\n",
            "Requirement already satisfied: setuptools>=41.0.0 in /usr/local/lib/python3.6/dist-packages (from tensorboard->catalyst) (41.4.0)\n",
            "Requirement already satisfied: wheel>=0.26; python_version >= \"3\" in /usr/local/lib/python3.6/dist-packages (from tensorboard->catalyst) (0.33.6)\n",
            "Requirement already satisfied: markdown>=2.6.8 in /usr/local/lib/python3.6/dist-packages (from tensorboard->catalyst) (3.1.1)\n",
            "Requirement already satisfied: six>=1.10.0 in /usr/local/lib/python3.6/dist-packages (from tensorboard->catalyst) (1.12.0)\n",
            "Requirement already satisfied: absl-py>=0.4 in /usr/local/lib/python3.6/dist-packages (from tensorboard->catalyst) (0.8.1)\n",
            "Requirement already satisfied: pillow>=4.1.1 in /usr/local/lib/python3.6/dist-packages (from torchvision>=0.2.1->catalyst) (4.3.0)\n",
            "Requirement already satisfied: networkx>=2.0 in /usr/local/lib/python3.6/dist-packages (from scikit-image>=0.14.2->catalyst) (2.4)\n",
            "Requirement already satisfied: PyWavelets>=0.4.0 in /usr/local/lib/python3.6/dist-packages (from scikit-image>=0.14.2->catalyst) (1.1.1)\n",
            "Requirement already satisfied: retrying>=1.3.3 in /usr/local/lib/python3.6/dist-packages (from plotly>=4.1.0->catalyst) (1.3.3)\n",
            "Requirement already satisfied: pyparsing>=2.0.2 in /usr/local/lib/python3.6/dist-packages (from packaging->catalyst) (2.4.4)\n",
            "Requirement already satisfied: decorator in /usr/local/lib/python3.6/dist-packages (from ipython->catalyst) (4.4.1)\n",
            "Requirement already satisfied: pygments in /usr/local/lib/python3.6/dist-packages (from ipython->catalyst) (2.1.3)\n",
            "Requirement already satisfied: traitlets>=4.2 in /usr/local/lib/python3.6/dist-packages (from ipython->catalyst) (4.3.3)\n",
            "Requirement already satisfied: pexpect; sys_platform != \"win32\" in /usr/local/lib/python3.6/dist-packages (from ipython->catalyst) (4.7.0)\n",
            "Requirement already satisfied: simplegeneric>0.8 in /usr/local/lib/python3.6/dist-packages (from ipython->catalyst) (0.8.1)\n",
            "Requirement already satisfied: prompt-toolkit<2.0.0,>=1.0.4 in /usr/local/lib/python3.6/dist-packages (from ipython->catalyst) (1.0.18)\n",
            "Requirement already satisfied: pickleshare in /usr/local/lib/python3.6/dist-packages (from ipython->catalyst) (0.7.5)\n",
            "Requirement already satisfied: python-dateutil>=2.6.1 in /usr/local/lib/python3.6/dist-packages (from pandas>=0.22->catalyst) (2.6.1)\n",
            "Requirement already satisfied: pytz>=2017.2 in /usr/local/lib/python3.6/dist-packages (from pandas>=0.22->catalyst) (2018.9)\n",
            "Requirement already satisfied: kiwisolver>=1.0.1 in /usr/local/lib/python3.6/dist-packages (from matplotlib->catalyst) (1.1.0)\n",
            "Requirement already satisfied: cycler>=0.10 in /usr/local/lib/python3.6/dist-packages (from matplotlib->catalyst) (0.10.0)\n",
            "Collecting gitdb2>=2.0.0\n",
            "\u001b[?25l  Downloading https://files.pythonhosted.org/packages/03/6c/99296f89bad2ef85626e1df9f677acbee8885bb043ad82ad3ed4746d2325/gitdb2-2.0.6-py2.py3-none-any.whl (63kB)\n",
            "\u001b[K     |████████████████████████████████| 71kB 8.4MB/s \n",
            "\u001b[?25hRequirement already satisfied: olefile in /usr/local/lib/python3.6/dist-packages (from pillow>=4.1.1->torchvision>=0.2.1->catalyst) (0.46)\n",
            "Requirement already satisfied: ipython-genutils in /usr/local/lib/python3.6/dist-packages (from traitlets>=4.2->ipython->catalyst) (0.2.0)\n",
            "Requirement already satisfied: ptyprocess>=0.5 in /usr/local/lib/python3.6/dist-packages (from pexpect; sys_platform != \"win32\"->ipython->catalyst) (0.6.0)\n",
            "Requirement already satisfied: wcwidth in /usr/local/lib/python3.6/dist-packages (from prompt-toolkit<2.0.0,>=1.0.4->ipython->catalyst) (0.1.7)\n",
            "Collecting smmap2>=2.0.0\n",
            "  Downloading https://files.pythonhosted.org/packages/55/d2/866d45e3a121ee15a1dc013824d58072fd5c7799c9c34d01378eb262ca8f/smmap2-2.0.5-py2.py3-none-any.whl\n",
            "Installing collected packages: tqdm, tensorboardX, safitty, smmap2, gitdb2, GitPython, crc32c, catalyst\n",
            "  Found existing installation: tqdm 4.28.1\n",
            "    Uninstalling tqdm-4.28.1:\n",
            "      Successfully uninstalled tqdm-4.28.1\n",
            "Successfully installed GitPython-3.0.4 catalyst-19.11.2 crc32c-1.7 gitdb2-2.0.6 safitty-1.3 smmap2-2.0.5 tensorboardX-1.9 tqdm-4.38.0\n"
          ],
          "name": "stdout"
        },
        {
          "output_type": "display_data",
          "data": {
            "application/vnd.colab-display-data+json": {
              "pip_warning": {
                "packages": [
                  "tqdm"
                ]
              }
            }
          },
          "metadata": {
            "tags": []
          }
        },
        {
          "output_type": "stream",
          "text": [
            "Collecting pretrainedmodels\n",
            "\u001b[?25l  Downloading https://files.pythonhosted.org/packages/84/0e/be6a0e58447ac16c938799d49bfb5fb7a80ac35e137547fc6cee2c08c4cf/pretrainedmodels-0.7.4.tar.gz (58kB)\n",
            "\r\u001b[K     |█████▋                          | 10kB 17.1MB/s eta 0:00:01\r\u001b[K     |███████████▏                    | 20kB 2.1MB/s eta 0:00:01\r\u001b[K     |████████████████▊               | 30kB 3.1MB/s eta 0:00:01\r\u001b[K     |██████████████████████▎         | 40kB 2.1MB/s eta 0:00:01\r\u001b[K     |███████████████████████████▉    | 51kB 2.6MB/s eta 0:00:01\r\u001b[K     |████████████████████████████████| 61kB 2.4MB/s \n",
            "\u001b[?25hRequirement already satisfied: torch in /usr/local/lib/python3.6/dist-packages (from pretrainedmodels) (1.3.1+cu100)\n",
            "Requirement already satisfied: torchvision in /usr/local/lib/python3.6/dist-packages (from pretrainedmodels) (0.4.2+cu100)\n",
            "Collecting munch\n",
            "  Downloading https://files.pythonhosted.org/packages/cc/ab/85d8da5c9a45e072301beb37ad7f833cd344e04c817d97e0cc75681d248f/munch-2.5.0-py2.py3-none-any.whl\n",
            "Requirement already satisfied: tqdm in /usr/local/lib/python3.6/dist-packages (from pretrainedmodels) (4.38.0)\n",
            "Requirement already satisfied: numpy in /usr/local/lib/python3.6/dist-packages (from torch->pretrainedmodels) (1.17.3)\n",
            "Requirement already satisfied: pillow>=4.1.1 in /usr/local/lib/python3.6/dist-packages (from torchvision->pretrainedmodels) (4.3.0)\n",
            "Requirement already satisfied: six in /usr/local/lib/python3.6/dist-packages (from torchvision->pretrainedmodels) (1.12.0)\n",
            "Requirement already satisfied: olefile in /usr/local/lib/python3.6/dist-packages (from pillow>=4.1.1->torchvision->pretrainedmodels) (0.46)\n",
            "Building wheels for collected packages: pretrainedmodels\n",
            "  Building wheel for pretrainedmodels (setup.py) ... \u001b[?25l\u001b[?25hdone\n",
            "  Created wheel for pretrainedmodels: filename=pretrainedmodels-0.7.4-cp36-none-any.whl size=60963 sha256=1b0a906133452158395f3b1241cbc80938bfb1208639bb7b051331697135bcc5\n",
            "  Stored in directory: /root/.cache/pip/wheels/69/df/63/62583c096289713f22db605aa2334de5b591d59861a02c2ecd\n",
            "Successfully built pretrainedmodels\n",
            "Installing collected packages: munch, pretrainedmodels\n",
            "Successfully installed munch-2.5.0 pretrainedmodels-0.7.4\n",
            "Collecting git+https://github.com/qubvel/segmentation_models.pytorch\n",
            "  Cloning https://github.com/qubvel/segmentation_models.pytorch to /tmp/pip-req-build-x_qdhdlh\n",
            "  Running command git clone -q https://github.com/qubvel/segmentation_models.pytorch /tmp/pip-req-build-x_qdhdlh\n",
            "Collecting torchvision<=0.4.0,>=0.2.2\n",
            "\u001b[?25l  Downloading https://files.pythonhosted.org/packages/06/e6/a564eba563f7ff53aa7318ff6aaa5bd8385cbda39ed55ba471e95af27d19/torchvision-0.4.0-cp36-cp36m-manylinux1_x86_64.whl (8.8MB)\n",
            "\u001b[K     |████████████████████████████████| 8.8MB 3.5MB/s \n",
            "\u001b[?25hRequirement already satisfied: pretrainedmodels==0.7.4 in /usr/local/lib/python3.6/dist-packages (from segmentation-models-pytorch==0.0.3) (0.7.4)\n",
            "Collecting efficientnet-pytorch==0.4.0\n",
            "  Downloading https://files.pythonhosted.org/packages/12/f8/35453605c6c471fc406a137a894fb381b05ae9f174b2ca4956592512374e/efficientnet_pytorch-0.4.0.tar.gz\n",
            "Requirement already satisfied: numpy in /usr/local/lib/python3.6/dist-packages (from torchvision<=0.4.0,>=0.2.2->segmentation-models-pytorch==0.0.3) (1.17.3)\n",
            "Requirement already satisfied: pillow>=4.1.1 in /usr/local/lib/python3.6/dist-packages (from torchvision<=0.4.0,>=0.2.2->segmentation-models-pytorch==0.0.3) (4.3.0)\n",
            "Collecting torch==1.2.0\n",
            "\u001b[?25l  Downloading https://files.pythonhosted.org/packages/30/57/d5cceb0799c06733eefce80c395459f28970ebb9e896846ce96ab579a3f1/torch-1.2.0-cp36-cp36m-manylinux1_x86_64.whl (748.8MB)\n",
            "\u001b[K     |████████████████████████████████| 748.9MB 22kB/s \n",
            "\u001b[?25hRequirement already satisfied: six in /usr/local/lib/python3.6/dist-packages (from torchvision<=0.4.0,>=0.2.2->segmentation-models-pytorch==0.0.3) (1.12.0)\n",
            "Requirement already satisfied: munch in /usr/local/lib/python3.6/dist-packages (from pretrainedmodels==0.7.4->segmentation-models-pytorch==0.0.3) (2.5.0)\n",
            "Requirement already satisfied: tqdm in /usr/local/lib/python3.6/dist-packages (from pretrainedmodels==0.7.4->segmentation-models-pytorch==0.0.3) (4.38.0)\n",
            "Requirement already satisfied: olefile in /usr/local/lib/python3.6/dist-packages (from pillow>=4.1.1->torchvision<=0.4.0,>=0.2.2->segmentation-models-pytorch==0.0.3) (0.46)\n",
            "Building wheels for collected packages: segmentation-models-pytorch, efficientnet-pytorch\n",
            "  Building wheel for segmentation-models-pytorch (setup.py) ... \u001b[?25l\u001b[?25hdone\n",
            "  Created wheel for segmentation-models-pytorch: filename=segmentation_models_pytorch-0.0.3-cp36-none-any.whl size=29990 sha256=1363ea9b9d1adb0fc0c7b8b88077b672b0cf5933a3b4300e8b4165550cc41cd3\n",
            "  Stored in directory: /tmp/pip-ephem-wheel-cache-5bg13xie/wheels/79/3f/09/1587a252e0314d26ad242d6d2e165622ab95c95e5cfe4b942c\n",
            "  Building wheel for efficientnet-pytorch (setup.py) ... \u001b[?25l\u001b[?25hdone\n",
            "  Created wheel for efficientnet-pytorch: filename=efficientnet_pytorch-0.4.0-cp36-none-any.whl size=11149 sha256=da9b4b83d38690519486a5ba95549584fdfea04c6cfca122b652d48a0735a395\n",
            "  Stored in directory: /root/.cache/pip/wheels/27/56/13/5bdaa98ca8bd7d5da65cc741987dd14391b87fa1a09081d17a\n",
            "Successfully built segmentation-models-pytorch efficientnet-pytorch\n",
            "Installing collected packages: torch, torchvision, efficientnet-pytorch, segmentation-models-pytorch\n",
            "  Found existing installation: torch 1.3.1+cu100\n",
            "    Uninstalling torch-1.3.1+cu100:\n",
            "      Successfully uninstalled torch-1.3.1+cu100\n",
            "  Found existing installation: torchvision 0.4.2+cu100\n",
            "    Uninstalling torchvision-0.4.2+cu100:\n",
            "      Successfully uninstalled torchvision-0.4.2+cu100\n",
            "Successfully installed efficientnet-pytorch-0.4.0 segmentation-models-pytorch-0.0.3 torch-1.2.0 torchvision-0.4.0\n",
            "Collecting pytorch_toolbelt\n",
            "\u001b[?25l  Downloading https://files.pythonhosted.org/packages/30/00/eb830ae0eb3f46751c1927d69e8e9eebd36bf63c2c9d259fcec4eecd5f4e/pytorch_toolbelt-0.2.1.tar.gz (62kB)\n",
            "\u001b[K     |████████████████████████████████| 71kB 1.9MB/s \n",
            "\u001b[?25hRequirement already satisfied: torch>=1.1 in /usr/local/lib/python3.6/dist-packages (from pytorch_toolbelt) (1.2.0)\n",
            "Requirement already satisfied: torchvision>=0.3 in /usr/local/lib/python3.6/dist-packages (from pytorch_toolbelt) (0.4.0)\n",
            "Collecting opencv-python>=4.0\n",
            "\u001b[?25l  Downloading https://files.pythonhosted.org/packages/5e/7e/bd5425f4dacb73367fddc71388a47c1ea570839197c2bcad86478e565186/opencv_python-4.1.1.26-cp36-cp36m-manylinux1_x86_64.whl (28.7MB)\n",
            "\u001b[K     |████████████████████████████████| 28.7MB 31.8MB/s \n",
            "\u001b[?25hRequirement already satisfied: numpy in /usr/local/lib/python3.6/dist-packages (from torch>=1.1->pytorch_toolbelt) (1.17.3)\n",
            "Requirement already satisfied: pillow>=4.1.1 in /usr/local/lib/python3.6/dist-packages (from torchvision>=0.3->pytorch_toolbelt) (4.3.0)\n",
            "Requirement already satisfied: six in /usr/local/lib/python3.6/dist-packages (from torchvision>=0.3->pytorch_toolbelt) (1.12.0)\n",
            "Requirement already satisfied: olefile in /usr/local/lib/python3.6/dist-packages (from pillow>=4.1.1->torchvision>=0.3->pytorch_toolbelt) (0.46)\n",
            "Building wheels for collected packages: pytorch-toolbelt\n",
            "  Building wheel for pytorch-toolbelt (setup.py) ... \u001b[?25l\u001b[?25hdone\n",
            "  Created wheel for pytorch-toolbelt: filename=pytorch_toolbelt-0.2.1-cp36-none-any.whl size=77760 sha256=3c5ae8a7b983ce9570a819a1050481a1186f771b1fa692dcbbedac8c794dcc57\n",
            "  Stored in directory: /root/.cache/pip/wheels/51/ea/7c/4aeb4525cb67895638573bf0bdcd92da05a9997bc722febf6f\n",
            "Successfully built pytorch-toolbelt\n",
            "\u001b[31mERROR: albumentations 0.1.12 has requirement imgaug<0.2.7,>=0.2.5, but you'll have imgaug 0.2.9 which is incompatible.\u001b[0m\n",
            "Installing collected packages: opencv-python, pytorch-toolbelt\n",
            "  Found existing installation: opencv-python 3.4.7.28\n",
            "    Uninstalling opencv-python-3.4.7.28:\n",
            "      Successfully uninstalled opencv-python-3.4.7.28\n",
            "Successfully installed opencv-python-4.1.1.26 pytorch-toolbelt-0.2.1\n",
            "Requirement already satisfied: torchvision==0.4 in /usr/local/lib/python3.6/dist-packages (0.4.0)\n",
            "Requirement already satisfied: numpy in /usr/local/lib/python3.6/dist-packages (from torchvision==0.4) (1.17.3)\n",
            "Requirement already satisfied: torch==1.2.0 in /usr/local/lib/python3.6/dist-packages (from torchvision==0.4) (1.2.0)\n",
            "Requirement already satisfied: six in /usr/local/lib/python3.6/dist-packages (from torchvision==0.4) (1.12.0)\n",
            "Requirement already satisfied: pillow>=4.1.1 in /usr/local/lib/python3.6/dist-packages (from torchvision==0.4) (4.3.0)\n",
            "Requirement already satisfied: olefile in /usr/local/lib/python3.6/dist-packages (from pillow>=4.1.1->torchvision==0.4) (0.46)\n",
            "Collecting albumentations==0.3.2\n",
            "\u001b[?25l  Downloading https://files.pythonhosted.org/packages/ad/34/e1da4fab7282d732a6cef827c7e5fb1efa1f02c3ba1bff4a0ace2daf6639/albumentations-0.3.2.tar.gz (79kB)\n",
            "\u001b[K     |████████████████████████████████| 81kB 2.8MB/s \n",
            "\u001b[?25hRequirement already satisfied: numpy>=1.11.1 in /usr/local/lib/python3.6/dist-packages (from albumentations==0.3.2) (1.17.3)\n",
            "Requirement already satisfied: scipy in /usr/local/lib/python3.6/dist-packages (from albumentations==0.3.2) (1.3.1)\n",
            "Collecting opencv-python-headless\n",
            "\u001b[?25l  Downloading https://files.pythonhosted.org/packages/1f/dc/b250f03ab68068033fd2356428c1357431d8ebc6a26405098e0f27c94f7a/opencv_python_headless-4.1.1.26-cp36-cp36m-manylinux1_x86_64.whl (22.1MB)\n",
            "\u001b[K     |████████████████████████████████| 22.1MB 37.1MB/s \n",
            "\u001b[?25hCollecting imgaug<0.2.7,>=0.2.5\n",
            "\u001b[?25l  Downloading https://files.pythonhosted.org/packages/ad/2e/748dbb7bb52ec8667098bae9b585f448569ae520031932687761165419a2/imgaug-0.2.6.tar.gz (631kB)\n",
            "\u001b[K     |████████████████████████████████| 634kB 33.2MB/s \n",
            "\u001b[?25hRequirement already satisfied: PyYAML in /usr/local/lib/python3.6/dist-packages (from albumentations==0.3.2) (3.13)\n",
            "Requirement already satisfied: scikit-image>=0.11.0 in /usr/local/lib/python3.6/dist-packages (from imgaug<0.2.7,>=0.2.5->albumentations==0.3.2) (0.15.0)\n",
            "Requirement already satisfied: six in /usr/local/lib/python3.6/dist-packages (from imgaug<0.2.7,>=0.2.5->albumentations==0.3.2) (1.12.0)\n",
            "Requirement already satisfied: imageio>=2.0.1 in /usr/local/lib/python3.6/dist-packages (from scikit-image>=0.11.0->imgaug<0.2.7,>=0.2.5->albumentations==0.3.2) (2.4.1)\n",
            "Requirement already satisfied: networkx>=2.0 in /usr/local/lib/python3.6/dist-packages (from scikit-image>=0.11.0->imgaug<0.2.7,>=0.2.5->albumentations==0.3.2) (2.4)\n",
            "Requirement already satisfied: PyWavelets>=0.4.0 in /usr/local/lib/python3.6/dist-packages (from scikit-image>=0.11.0->imgaug<0.2.7,>=0.2.5->albumentations==0.3.2) (1.1.1)\n",
            "Requirement already satisfied: matplotlib!=3.0.0,>=2.0.0 in /usr/local/lib/python3.6/dist-packages (from scikit-image>=0.11.0->imgaug<0.2.7,>=0.2.5->albumentations==0.3.2) (3.1.1)\n",
            "Requirement already satisfied: pillow>=4.3.0 in /usr/local/lib/python3.6/dist-packages (from scikit-image>=0.11.0->imgaug<0.2.7,>=0.2.5->albumentations==0.3.2) (4.3.0)\n",
            "Requirement already satisfied: decorator>=4.3.0 in /usr/local/lib/python3.6/dist-packages (from networkx>=2.0->scikit-image>=0.11.0->imgaug<0.2.7,>=0.2.5->albumentations==0.3.2) (4.4.1)\n",
            "Requirement already satisfied: cycler>=0.10 in /usr/local/lib/python3.6/dist-packages (from matplotlib!=3.0.0,>=2.0.0->scikit-image>=0.11.0->imgaug<0.2.7,>=0.2.5->albumentations==0.3.2) (0.10.0)\n",
            "Requirement already satisfied: python-dateutil>=2.1 in /usr/local/lib/python3.6/dist-packages (from matplotlib!=3.0.0,>=2.0.0->scikit-image>=0.11.0->imgaug<0.2.7,>=0.2.5->albumentations==0.3.2) (2.6.1)\n",
            "Requirement already satisfied: pyparsing!=2.0.4,!=2.1.2,!=2.1.6,>=2.0.1 in /usr/local/lib/python3.6/dist-packages (from matplotlib!=3.0.0,>=2.0.0->scikit-image>=0.11.0->imgaug<0.2.7,>=0.2.5->albumentations==0.3.2) (2.4.4)\n",
            "Requirement already satisfied: kiwisolver>=1.0.1 in /usr/local/lib/python3.6/dist-packages (from matplotlib!=3.0.0,>=2.0.0->scikit-image>=0.11.0->imgaug<0.2.7,>=0.2.5->albumentations==0.3.2) (1.1.0)\n",
            "Requirement already satisfied: olefile in /usr/local/lib/python3.6/dist-packages (from pillow>=4.3.0->scikit-image>=0.11.0->imgaug<0.2.7,>=0.2.5->albumentations==0.3.2) (0.46)\n",
            "Requirement already satisfied: setuptools in /usr/local/lib/python3.6/dist-packages (from kiwisolver>=1.0.1->matplotlib!=3.0.0,>=2.0.0->scikit-image>=0.11.0->imgaug<0.2.7,>=0.2.5->albumentations==0.3.2) (41.4.0)\n",
            "Building wheels for collected packages: albumentations, imgaug\n",
            "  Building wheel for albumentations (setup.py) ... \u001b[?25l\u001b[?25hdone\n",
            "  Created wheel for albumentations: filename=albumentations-0.3.2-cp36-none-any.whl size=51063 sha256=9bd1f27062efb4d38aee3913db2c51c52613d4fe78425b8cd8b9aa2c2f4970f3\n",
            "  Stored in directory: /root/.cache/pip/wheels/4c/74/a9/b8cfb94bcf1a5d7ea53a6b522bcd372b23b64595b7328e4f3f\n",
            "  Building wheel for imgaug (setup.py) ... \u001b[?25l\u001b[?25hdone\n",
            "  Created wheel for imgaug: filename=imgaug-0.2.6-cp36-none-any.whl size=654020 sha256=f70bfd2fbf5f24e597a876e817c3d309bcdbc47917b481986f922dfe6401dc44\n",
            "  Stored in directory: /root/.cache/pip/wheels/97/ec/48/0d25896c417b715af6236dbcef8f0bed136a1a5e52972fc6d0\n",
            "Successfully built albumentations imgaug\n",
            "Installing collected packages: opencv-python-headless, imgaug, albumentations\n",
            "  Found existing installation: imgaug 0.2.9\n",
            "    Uninstalling imgaug-0.2.9:\n",
            "      Successfully uninstalled imgaug-0.2.9\n",
            "  Found existing installation: albumentations 0.1.12\n",
            "    Uninstalling albumentations-0.1.12:\n",
            "      Successfully uninstalled albumentations-0.1.12\n",
            "Successfully installed albumentations-0.3.2 imgaug-0.2.6 opencv-python-headless-4.1.1.26\n"
          ],
          "name": "stdout"
        }
      ]
    },
    {
      "cell_type": "code",
      "metadata": {
        "id": "vDtD6jPT3aCa",
        "colab_type": "code",
        "colab": {}
      },
      "source": [
        "import os\n",
        "import cv2\n",
        "import collections\n",
        "import time \n",
        "import tqdm\n",
        "from PIL import Image\n",
        "from functools import partial\n",
        "train_on_gpu = True\n",
        "\n",
        "import numpy as np\n",
        "import pandas as pd\n",
        "import matplotlib.pyplot as plt\n",
        "import seaborn as sns\n",
        "%matplotlib inline\n",
        "\n",
        "from sklearn.model_selection import train_test_split\n",
        "from sklearn.metrics import roc_auc_score\n",
        "\n",
        "import torchvision\n",
        "import torchvision.transforms as transforms\n",
        "import torch\n",
        "from torch.utils.data import TensorDataset, DataLoader,Dataset\n",
        "import torch.nn as nn\n",
        "import torch.nn.functional as F\n",
        "import torch.optim as optim\n",
        "from torch.optim import lr_scheduler\n",
        "from torch.utils.data.sampler import SubsetRandomSampler\n",
        "from torch.optim.lr_scheduler import StepLR, ReduceLROnPlateau, CosineAnnealingLR\n",
        "\n",
        "import albumentations as albu\n",
        "from albumentations import torch as AT\n",
        "\n",
        "import gc"
      ],
      "execution_count": 0,
      "outputs": []
    },
    {
      "cell_type": "code",
      "metadata": {
        "id": "s_Yw7T7N4Dql",
        "colab_type": "code",
        "colab": {}
      },
      "source": [
        "from catalyst.data import Augmentor\n",
        "from catalyst.dl import utils\n",
        "from catalyst.data.reader import ImageReader, ScalarReader, ReaderCompose, LambdaReader\n",
        "from catalyst.dl.runner import SupervisedRunner\n",
        "from catalyst.contrib.models.segmentation import Unet\n",
        "from catalyst.dl.callbacks import DiceCallback, EarlyStoppingCallback, InferCallback, CheckpointCallback\n",
        "\n",
        "import segmentation_models_pytorch as smp"
      ],
      "execution_count": 0,
      "outputs": []
    },
    {
      "cell_type": "code",
      "metadata": {
        "id": "uIbeGU-rs7mv",
        "colab_type": "code",
        "colab": {
          "base_uri": "https://localhost:8080/",
          "height": 1000
        },
        "outputId": "c8e5a06e-6822-4826-daed-475973b67a1c"
      },
      "source": [
        "!pip install -v --no-cache-dir --global-option=\"--cpp_ext\" --global-option=\"--cuda_ext\" /content/gdrive/My\\ Drive/kaggle_cloud/apex\n",
        "from apex import amp"
      ],
      "execution_count": 6,
      "outputs": [
        {
          "output_type": "stream",
          "text": [
            "/usr/local/lib/python3.6/dist-packages/pip/_internal/commands/install.py:283: UserWarning: Disabling all use of wheels due to the use of --build-options / --global-options / --install-options.\n",
            "  cmdoptions.check_install_build_global(options)\n",
            "Created temporary directory: /tmp/pip-ephem-wheel-cache-cojtj51e\n",
            "Created temporary directory: /tmp/pip-req-tracker-wtrl8674\n",
            "Created requirements tracker '/tmp/pip-req-tracker-wtrl8674'\n",
            "Created temporary directory: /tmp/pip-install-t419333b\n",
            "Processing ./gdrive/My Drive/kaggle_cloud/apex\n",
            "  Created temporary directory: /tmp/pip-req-build-sqki5bid\n",
            "  Added file:///content/gdrive/My%20Drive/kaggle_cloud/apex to build tracker '/tmp/pip-req-tracker-wtrl8674'\n",
            "    Running setup.py (path:/tmp/pip-req-build-sqki5bid/setup.py) egg_info for package from file:///content/gdrive/My%20Drive/kaggle_cloud/apex\n",
            "    Running command python setup.py egg_info\n",
            "    torch.__version__  =  1.2.0\n",
            "    running egg_info\n",
            "    creating /tmp/pip-req-build-sqki5bid/pip-egg-info/apex.egg-info\n",
            "    writing /tmp/pip-req-build-sqki5bid/pip-egg-info/apex.egg-info/PKG-INFO\n",
            "    writing dependency_links to /tmp/pip-req-build-sqki5bid/pip-egg-info/apex.egg-info/dependency_links.txt\n",
            "    writing top-level names to /tmp/pip-req-build-sqki5bid/pip-egg-info/apex.egg-info/top_level.txt\n",
            "    writing manifest file '/tmp/pip-req-build-sqki5bid/pip-egg-info/apex.egg-info/SOURCES.txt'\n",
            "    writing manifest file '/tmp/pip-req-build-sqki5bid/pip-egg-info/apex.egg-info/SOURCES.txt'\n",
            "    /tmp/pip-req-build-sqki5bid/setup.py:43: UserWarning: Option --pyprof not specified. Not installing PyProf dependencies!\n",
            "      warnings.warn(\"Option --pyprof not specified. Not installing PyProf dependencies!\")\n",
            "  Source in /tmp/pip-req-build-sqki5bid has version 0.1, which satisfies requirement apex==0.1 from file:///content/gdrive/My%20Drive/kaggle_cloud/apex\n",
            "  Removed apex==0.1 from file:///content/gdrive/My%20Drive/kaggle_cloud/apex from build tracker '/tmp/pip-req-tracker-wtrl8674'\n",
            "Skipping wheel build for apex, due to binaries being disabled for it.\n",
            "Installing collected packages: apex\n",
            "  Created temporary directory: /tmp/pip-record-7zhipet4\n",
            "    Running command /usr/bin/python3 -u -c 'import sys, setuptools, tokenize; sys.argv[0] = '\"'\"'/tmp/pip-req-build-sqki5bid/setup.py'\"'\"'; __file__='\"'\"'/tmp/pip-req-build-sqki5bid/setup.py'\"'\"';f=getattr(tokenize, '\"'\"'open'\"'\"', open)(__file__);code=f.read().replace('\"'\"'\\r\\n'\"'\"', '\"'\"'\\n'\"'\"');f.close();exec(compile(code, __file__, '\"'\"'exec'\"'\"'))' --cpp_ext --cuda_ext install --record /tmp/pip-record-7zhipet4/install-record.txt --single-version-externally-managed --compile\n",
            "    torch.__version__  =  1.2.0\n",
            "    /tmp/pip-req-build-sqki5bid/setup.py:43: UserWarning: Option --pyprof not specified. Not installing PyProf dependencies!\n",
            "      warnings.warn(\"Option --pyprof not specified. Not installing PyProf dependencies!\")\n",
            "\n",
            "    Compiling cuda extensions with\n",
            "    nvcc: NVIDIA (R) Cuda compiler driver\n",
            "    Copyright (c) 2005-2018 NVIDIA Corporation\n",
            "    Built on Sat_Aug_25_21:08:01_CDT_2018\n",
            "    Cuda compilation tools, release 10.0, V10.0.130\n",
            "    from /usr/local/cuda/bin\n",
            "\n",
            "    running install\n",
            "    running build\n",
            "    running build_py\n",
            "    creating build\n",
            "    creating build/lib.linux-x86_64-3.6\n",
            "    creating build/lib.linux-x86_64-3.6/apex\n",
            "    copying apex/__init__.py -> build/lib.linux-x86_64-3.6/apex\n",
            "    creating build/lib.linux-x86_64-3.6/apex/parallel\n",
            "    copying apex/parallel/optimized_sync_batchnorm.py -> build/lib.linux-x86_64-3.6/apex/parallel\n",
            "    copying apex/parallel/optimized_sync_batchnorm_kernel.py -> build/lib.linux-x86_64-3.6/apex/parallel\n",
            "    copying apex/parallel/distributed.py -> build/lib.linux-x86_64-3.6/apex/parallel\n",
            "    copying apex/parallel/__init__.py -> build/lib.linux-x86_64-3.6/apex/parallel\n",
            "    copying apex/parallel/sync_batchnorm_kernel.py -> build/lib.linux-x86_64-3.6/apex/parallel\n",
            "    copying apex/parallel/sync_batchnorm.py -> build/lib.linux-x86_64-3.6/apex/parallel\n",
            "    copying apex/parallel/LARC.py -> build/lib.linux-x86_64-3.6/apex/parallel\n",
            "    copying apex/parallel/multiproc.py -> build/lib.linux-x86_64-3.6/apex/parallel\n",
            "    creating build/lib.linux-x86_64-3.6/apex/fp16_utils\n",
            "    copying apex/fp16_utils/loss_scaler.py -> build/lib.linux-x86_64-3.6/apex/fp16_utils\n",
            "    copying apex/fp16_utils/fp16util.py -> build/lib.linux-x86_64-3.6/apex/fp16_utils\n",
            "    copying apex/fp16_utils/__init__.py -> build/lib.linux-x86_64-3.6/apex/fp16_utils\n",
            "    copying apex/fp16_utils/fp16_optimizer.py -> build/lib.linux-x86_64-3.6/apex/fp16_utils\n",
            "    creating build/lib.linux-x86_64-3.6/apex/multi_tensor_apply\n",
            "    copying apex/multi_tensor_apply/multi_tensor_apply.py -> build/lib.linux-x86_64-3.6/apex/multi_tensor_apply\n",
            "    copying apex/multi_tensor_apply/__init__.py -> build/lib.linux-x86_64-3.6/apex/multi_tensor_apply\n",
            "    creating build/lib.linux-x86_64-3.6/apex/optimizers\n",
            "    copying apex/optimizers/fused_adam.py -> build/lib.linux-x86_64-3.6/apex/optimizers\n",
            "    copying apex/optimizers/__init__.py -> build/lib.linux-x86_64-3.6/apex/optimizers\n",
            "    copying apex/optimizers/fused_novograd.py -> build/lib.linux-x86_64-3.6/apex/optimizers\n",
            "    copying apex/optimizers/fused_lamb.py -> build/lib.linux-x86_64-3.6/apex/optimizers\n",
            "    copying apex/optimizers/fused_sgd.py -> build/lib.linux-x86_64-3.6/apex/optimizers\n",
            "    creating build/lib.linux-x86_64-3.6/apex/amp\n",
            "    copying apex/amp/_initialize.py -> build/lib.linux-x86_64-3.6/apex/amp\n",
            "    copying apex/amp/_process_optimizer.py -> build/lib.linux-x86_64-3.6/apex/amp\n",
            "    copying apex/amp/utils.py -> build/lib.linux-x86_64-3.6/apex/amp\n",
            "    copying apex/amp/compat.py -> build/lib.linux-x86_64-3.6/apex/amp\n",
            "    copying apex/amp/wrap.py -> build/lib.linux-x86_64-3.6/apex/amp\n",
            "    copying apex/amp/__version__.py -> build/lib.linux-x86_64-3.6/apex/amp\n",
            "    copying apex/amp/frontend.py -> build/lib.linux-x86_64-3.6/apex/amp\n",
            "    copying apex/amp/opt.py -> build/lib.linux-x86_64-3.6/apex/amp\n",
            "    copying apex/amp/scaler.py -> build/lib.linux-x86_64-3.6/apex/amp\n",
            "    copying apex/amp/amp.py -> build/lib.linux-x86_64-3.6/apex/amp\n",
            "    copying apex/amp/rnn_compat.py -> build/lib.linux-x86_64-3.6/apex/amp\n",
            "    copying apex/amp/__init__.py -> build/lib.linux-x86_64-3.6/apex/amp\n",
            "    copying apex/amp/_amp_state.py -> build/lib.linux-x86_64-3.6/apex/amp\n",
            "    copying apex/amp/handle.py -> build/lib.linux-x86_64-3.6/apex/amp\n",
            "    creating build/lib.linux-x86_64-3.6/apex/RNN\n",
            "    copying apex/RNN/RNNBackend.py -> build/lib.linux-x86_64-3.6/apex/RNN\n",
            "    copying apex/RNN/cells.py -> build/lib.linux-x86_64-3.6/apex/RNN\n",
            "    copying apex/RNN/models.py -> build/lib.linux-x86_64-3.6/apex/RNN\n",
            "    copying apex/RNN/__init__.py -> build/lib.linux-x86_64-3.6/apex/RNN\n",
            "    creating build/lib.linux-x86_64-3.6/apex/reparameterization\n",
            "    copying apex/reparameterization/reparameterization.py -> build/lib.linux-x86_64-3.6/apex/reparameterization\n",
            "    copying apex/reparameterization/weight_norm.py -> build/lib.linux-x86_64-3.6/apex/reparameterization\n",
            "    copying apex/reparameterization/__init__.py -> build/lib.linux-x86_64-3.6/apex/reparameterization\n",
            "    creating build/lib.linux-x86_64-3.6/apex/pyprof\n",
            "    copying apex/pyprof/__init__.py -> build/lib.linux-x86_64-3.6/apex/pyprof\n",
            "    creating build/lib.linux-x86_64-3.6/apex/normalization\n",
            "    copying apex/normalization/fused_layer_norm.py -> build/lib.linux-x86_64-3.6/apex/normalization\n",
            "    copying apex/normalization/__init__.py -> build/lib.linux-x86_64-3.6/apex/normalization\n",
            "    creating build/lib.linux-x86_64-3.6/apex/contrib\n",
            "    copying apex/contrib/__init__.py -> build/lib.linux-x86_64-3.6/apex/contrib\n",
            "    creating build/lib.linux-x86_64-3.6/apex/amp/lists\n",
            "    copying apex/amp/lists/torch_overrides.py -> build/lib.linux-x86_64-3.6/apex/amp/lists\n",
            "    copying apex/amp/lists/tensor_overrides.py -> build/lib.linux-x86_64-3.6/apex/amp/lists\n",
            "    copying apex/amp/lists/__init__.py -> build/lib.linux-x86_64-3.6/apex/amp/lists\n",
            "    copying apex/amp/lists/functional_overrides.py -> build/lib.linux-x86_64-3.6/apex/amp/lists\n",
            "    creating build/lib.linux-x86_64-3.6/apex/pyprof/parse\n",
            "    copying apex/pyprof/parse/kernel.py -> build/lib.linux-x86_64-3.6/apex/pyprof/parse\n",
            "    copying apex/pyprof/parse/parse.py -> build/lib.linux-x86_64-3.6/apex/pyprof/parse\n",
            "    copying apex/pyprof/parse/__init__.py -> build/lib.linux-x86_64-3.6/apex/pyprof/parse\n",
            "    copying apex/pyprof/parse/nvvp.py -> build/lib.linux-x86_64-3.6/apex/pyprof/parse\n",
            "    copying apex/pyprof/parse/__main__.py -> build/lib.linux-x86_64-3.6/apex/pyprof/parse\n",
            "    copying apex/pyprof/parse/db.py -> build/lib.linux-x86_64-3.6/apex/pyprof/parse\n",
            "    creating build/lib.linux-x86_64-3.6/apex/pyprof/prof\n",
            "    copying apex/pyprof/prof/misc.py -> build/lib.linux-x86_64-3.6/apex/pyprof/prof\n",
            "    copying apex/pyprof/prof/blas.py -> build/lib.linux-x86_64-3.6/apex/pyprof/prof\n",
            "    copying apex/pyprof/prof/index_slice_join_mutate.py -> build/lib.linux-x86_64-3.6/apex/pyprof/prof\n",
            "    copying apex/pyprof/prof/prof.py -> build/lib.linux-x86_64-3.6/apex/pyprof/prof\n",
            "    copying apex/pyprof/prof/normalization.py -> build/lib.linux-x86_64-3.6/apex/pyprof/prof\n",
            "    copying apex/pyprof/prof/linear.py -> build/lib.linux-x86_64-3.6/apex/pyprof/prof\n",
            "    copying apex/pyprof/prof/pointwise.py -> build/lib.linux-x86_64-3.6/apex/pyprof/prof\n",
            "    copying apex/pyprof/prof/data.py -> build/lib.linux-x86_64-3.6/apex/pyprof/prof\n",
            "    copying apex/pyprof/prof/embedding.py -> build/lib.linux-x86_64-3.6/apex/pyprof/prof\n",
            "    copying apex/pyprof/prof/activation.py -> build/lib.linux-x86_64-3.6/apex/pyprof/prof\n",
            "    copying apex/pyprof/prof/recurrentCell.py -> build/lib.linux-x86_64-3.6/apex/pyprof/prof\n",
            "    copying apex/pyprof/prof/base.py -> build/lib.linux-x86_64-3.6/apex/pyprof/prof\n",
            "    copying apex/pyprof/prof/output.py -> build/lib.linux-x86_64-3.6/apex/pyprof/prof\n",
            "    copying apex/pyprof/prof/conv.py -> build/lib.linux-x86_64-3.6/apex/pyprof/prof\n",
            "    copying apex/pyprof/prof/optim.py -> build/lib.linux-x86_64-3.6/apex/pyprof/prof\n",
            "    copying apex/pyprof/prof/randomSample.py -> build/lib.linux-x86_64-3.6/apex/pyprof/prof\n",
            "    copying apex/pyprof/prof/softmax.py -> build/lib.linux-x86_64-3.6/apex/pyprof/prof\n",
            "    copying apex/pyprof/prof/utility.py -> build/lib.linux-x86_64-3.6/apex/pyprof/prof\n",
            "    copying apex/pyprof/prof/__init__.py -> build/lib.linux-x86_64-3.6/apex/pyprof/prof\n",
            "    copying apex/pyprof/prof/loss.py -> build/lib.linux-x86_64-3.6/apex/pyprof/prof\n",
            "    copying apex/pyprof/prof/dropout.py -> build/lib.linux-x86_64-3.6/apex/pyprof/prof\n",
            "    copying apex/pyprof/prof/__main__.py -> build/lib.linux-x86_64-3.6/apex/pyprof/prof\n",
            "    copying apex/pyprof/prof/reduction.py -> build/lib.linux-x86_64-3.6/apex/pyprof/prof\n",
            "    copying apex/pyprof/prof/usage.py -> build/lib.linux-x86_64-3.6/apex/pyprof/prof\n",
            "    copying apex/pyprof/prof/pooling.py -> build/lib.linux-x86_64-3.6/apex/pyprof/prof\n",
            "    copying apex/pyprof/prof/convert.py -> build/lib.linux-x86_64-3.6/apex/pyprof/prof\n",
            "    creating build/lib.linux-x86_64-3.6/apex/pyprof/nvtx\n",
            "    copying apex/pyprof/nvtx/__init__.py -> build/lib.linux-x86_64-3.6/apex/pyprof/nvtx\n",
            "    copying apex/pyprof/nvtx/nvmarker.py -> build/lib.linux-x86_64-3.6/apex/pyprof/nvtx\n",
            "    creating build/lib.linux-x86_64-3.6/apex/contrib/optimizers\n",
            "    copying apex/contrib/optimizers/fused_adam.py -> build/lib.linux-x86_64-3.6/apex/contrib/optimizers\n",
            "    copying apex/contrib/optimizers/__init__.py -> build/lib.linux-x86_64-3.6/apex/contrib/optimizers\n",
            "    copying apex/contrib/optimizers/fp16_optimizer.py -> build/lib.linux-x86_64-3.6/apex/contrib/optimizers\n",
            "    creating build/lib.linux-x86_64-3.6/apex/contrib/xentropy\n",
            "    copying apex/contrib/xentropy/softmax_xentropy.py -> build/lib.linux-x86_64-3.6/apex/contrib/xentropy\n",
            "    copying apex/contrib/xentropy/__init__.py -> build/lib.linux-x86_64-3.6/apex/contrib/xentropy\n",
            "    creating build/lib.linux-x86_64-3.6/apex/contrib/groupbn\n",
            "    copying apex/contrib/groupbn/__init__.py -> build/lib.linux-x86_64-3.6/apex/contrib/groupbn\n",
            "    copying apex/contrib/groupbn/batch_norm.py -> build/lib.linux-x86_64-3.6/apex/contrib/groupbn\n",
            "    running build_ext\n",
            "    building 'apex_C' extension\n",
            "    creating build/temp.linux-x86_64-3.6\n",
            "    creating build/temp.linux-x86_64-3.6/csrc\n",
            "    x86_64-linux-gnu-gcc -pthread -DNDEBUG -g -fwrapv -O2 -Wall -g -fstack-protector-strong -Wformat -Werror=format-security -Wdate-time -D_FORTIFY_SOURCE=2 -fPIC -I/usr/local/lib/python3.6/dist-packages/torch/include -I/usr/local/lib/python3.6/dist-packages/torch/include/torch/csrc/api/include -I/usr/local/lib/python3.6/dist-packages/torch/include/TH -I/usr/local/lib/python3.6/dist-packages/torch/include/THC -I/usr/include/python3.6m -c csrc/flatten_unflatten.cpp -o build/temp.linux-x86_64-3.6/csrc/flatten_unflatten.o -DTORCH_API_INCLUDE_EXTENSION_H -DTORCH_EXTENSION_NAME=apex_C -D_GLIBCXX_USE_CXX11_ABI=0 -std=c++11\n",
            "    x86_64-linux-gnu-g++ -pthread -shared -Wl,-O1 -Wl,-Bsymbolic-functions -Wl,-Bsymbolic-functions -Wl,-z,relro -Wl,-Bsymbolic-functions -Wl,-z,relro -g -fstack-protector-strong -Wformat -Werror=format-security -Wdate-time -D_FORTIFY_SOURCE=2 build/temp.linux-x86_64-3.6/csrc/flatten_unflatten.o -o build/lib.linux-x86_64-3.6/apex_C.cpython-36m-x86_64-linux-gnu.so\n",
            "    building 'amp_C' extension\n",
            "    x86_64-linux-gnu-gcc -pthread -DNDEBUG -g -fwrapv -O2 -Wall -g -fstack-protector-strong -Wformat -Werror=format-security -Wdate-time -D_FORTIFY_SOURCE=2 -fPIC -I/usr/local/lib/python3.6/dist-packages/torch/include -I/usr/local/lib/python3.6/dist-packages/torch/include/torch/csrc/api/include -I/usr/local/lib/python3.6/dist-packages/torch/include/TH -I/usr/local/lib/python3.6/dist-packages/torch/include/THC -I/usr/local/cuda/include -I/usr/include/python3.6m -c csrc/amp_C_frontend.cpp -o build/temp.linux-x86_64-3.6/csrc/amp_C_frontend.o -O3 -DVERSION_GE_1_1 -DTORCH_API_INCLUDE_EXTENSION_H -DTORCH_EXTENSION_NAME=amp_C -D_GLIBCXX_USE_CXX11_ABI=0 -std=c++11\n",
            "    /usr/local/cuda/bin/nvcc -I/usr/local/lib/python3.6/dist-packages/torch/include -I/usr/local/lib/python3.6/dist-packages/torch/include/torch/csrc/api/include -I/usr/local/lib/python3.6/dist-packages/torch/include/TH -I/usr/local/lib/python3.6/dist-packages/torch/include/THC -I/usr/local/cuda/include -I/usr/include/python3.6m -c csrc/multi_tensor_sgd_kernel.cu -o build/temp.linux-x86_64-3.6/csrc/multi_tensor_sgd_kernel.o -D__CUDA_NO_HALF_OPERATORS__ -D__CUDA_NO_HALF_CONVERSIONS__ -D__CUDA_NO_HALF2_OPERATORS__ --expt-relaxed-constexpr --compiler-options '-fPIC' -lineinfo -O3 --use_fast_math -DVERSION_GE_1_1 -DTORCH_API_INCLUDE_EXTENSION_H -DTORCH_EXTENSION_NAME=amp_C -D_GLIBCXX_USE_CXX11_ABI=0 -std=c++11\n",
            "    /usr/local/cuda/bin/nvcc -I/usr/local/lib/python3.6/dist-packages/torch/include -I/usr/local/lib/python3.6/dist-packages/torch/include/torch/csrc/api/include -I/usr/local/lib/python3.6/dist-packages/torch/include/TH -I/usr/local/lib/python3.6/dist-packages/torch/include/THC -I/usr/local/cuda/include -I/usr/include/python3.6m -c csrc/multi_tensor_scale_kernel.cu -o build/temp.linux-x86_64-3.6/csrc/multi_tensor_scale_kernel.o -D__CUDA_NO_HALF_OPERATORS__ -D__CUDA_NO_HALF_CONVERSIONS__ -D__CUDA_NO_HALF2_OPERATORS__ --expt-relaxed-constexpr --compiler-options '-fPIC' -lineinfo -O3 --use_fast_math -DVERSION_GE_1_1 -DTORCH_API_INCLUDE_EXTENSION_H -DTORCH_EXTENSION_NAME=amp_C -D_GLIBCXX_USE_CXX11_ABI=0 -std=c++11\n",
            "    /usr/local/cuda/bin/nvcc -I/usr/local/lib/python3.6/dist-packages/torch/include -I/usr/local/lib/python3.6/dist-packages/torch/include/torch/csrc/api/include -I/usr/local/lib/python3.6/dist-packages/torch/include/TH -I/usr/local/lib/python3.6/dist-packages/torch/include/THC -I/usr/local/cuda/include -I/usr/include/python3.6m -c csrc/multi_tensor_axpby_kernel.cu -o build/temp.linux-x86_64-3.6/csrc/multi_tensor_axpby_kernel.o -D__CUDA_NO_HALF_OPERATORS__ -D__CUDA_NO_HALF_CONVERSIONS__ -D__CUDA_NO_HALF2_OPERATORS__ --expt-relaxed-constexpr --compiler-options '-fPIC' -lineinfo -O3 --use_fast_math -DVERSION_GE_1_1 -DTORCH_API_INCLUDE_EXTENSION_H -DTORCH_EXTENSION_NAME=amp_C -D_GLIBCXX_USE_CXX11_ABI=0 -std=c++11\n",
            "    /usr/local/cuda/bin/nvcc -I/usr/local/lib/python3.6/dist-packages/torch/include -I/usr/local/lib/python3.6/dist-packages/torch/include/torch/csrc/api/include -I/usr/local/lib/python3.6/dist-packages/torch/include/TH -I/usr/local/lib/python3.6/dist-packages/torch/include/THC -I/usr/local/cuda/include -I/usr/include/python3.6m -c csrc/multi_tensor_l2norm_kernel.cu -o build/temp.linux-x86_64-3.6/csrc/multi_tensor_l2norm_kernel.o -D__CUDA_NO_HALF_OPERATORS__ -D__CUDA_NO_HALF_CONVERSIONS__ -D__CUDA_NO_HALF2_OPERATORS__ --expt-relaxed-constexpr --compiler-options '-fPIC' -lineinfo -O3 --use_fast_math -DVERSION_GE_1_1 -DTORCH_API_INCLUDE_EXTENSION_H -DTORCH_EXTENSION_NAME=amp_C -D_GLIBCXX_USE_CXX11_ABI=0 -std=c++11\n",
            "    /usr/local/cuda/bin/nvcc -I/usr/local/lib/python3.6/dist-packages/torch/include -I/usr/local/lib/python3.6/dist-packages/torch/include/torch/csrc/api/include -I/usr/local/lib/python3.6/dist-packages/torch/include/TH -I/usr/local/lib/python3.6/dist-packages/torch/include/THC -I/usr/local/cuda/include -I/usr/include/python3.6m -c csrc/multi_tensor_lamb_stage_1.cu -o build/temp.linux-x86_64-3.6/csrc/multi_tensor_lamb_stage_1.o -D__CUDA_NO_HALF_OPERATORS__ -D__CUDA_NO_HALF_CONVERSIONS__ -D__CUDA_NO_HALF2_OPERATORS__ --expt-relaxed-constexpr --compiler-options '-fPIC' -lineinfo -O3 --use_fast_math -DVERSION_GE_1_1 -DTORCH_API_INCLUDE_EXTENSION_H -DTORCH_EXTENSION_NAME=amp_C -D_GLIBCXX_USE_CXX11_ABI=0 -std=c++11\n",
            "    /usr/local/cuda/bin/nvcc -I/usr/local/lib/python3.6/dist-packages/torch/include -I/usr/local/lib/python3.6/dist-packages/torch/include/torch/csrc/api/include -I/usr/local/lib/python3.6/dist-packages/torch/include/TH -I/usr/local/lib/python3.6/dist-packages/torch/include/THC -I/usr/local/cuda/include -I/usr/include/python3.6m -c csrc/multi_tensor_lamb_stage_2.cu -o build/temp.linux-x86_64-3.6/csrc/multi_tensor_lamb_stage_2.o -D__CUDA_NO_HALF_OPERATORS__ -D__CUDA_NO_HALF_CONVERSIONS__ -D__CUDA_NO_HALF2_OPERATORS__ --expt-relaxed-constexpr --compiler-options '-fPIC' -lineinfo -O3 --use_fast_math -DVERSION_GE_1_1 -DTORCH_API_INCLUDE_EXTENSION_H -DTORCH_EXTENSION_NAME=amp_C -D_GLIBCXX_USE_CXX11_ABI=0 -std=c++11\n",
            "    /usr/local/cuda/bin/nvcc -I/usr/local/lib/python3.6/dist-packages/torch/include -I/usr/local/lib/python3.6/dist-packages/torch/include/torch/csrc/api/include -I/usr/local/lib/python3.6/dist-packages/torch/include/TH -I/usr/local/lib/python3.6/dist-packages/torch/include/THC -I/usr/local/cuda/include -I/usr/include/python3.6m -c csrc/multi_tensor_adam.cu -o build/temp.linux-x86_64-3.6/csrc/multi_tensor_adam.o -D__CUDA_NO_HALF_OPERATORS__ -D__CUDA_NO_HALF_CONVERSIONS__ -D__CUDA_NO_HALF2_OPERATORS__ --expt-relaxed-constexpr --compiler-options '-fPIC' -lineinfo -O3 --use_fast_math -DVERSION_GE_1_1 -DTORCH_API_INCLUDE_EXTENSION_H -DTORCH_EXTENSION_NAME=amp_C -D_GLIBCXX_USE_CXX11_ABI=0 -std=c++11\n",
            "    /usr/local/cuda/bin/nvcc -I/usr/local/lib/python3.6/dist-packages/torch/include -I/usr/local/lib/python3.6/dist-packages/torch/include/torch/csrc/api/include -I/usr/local/lib/python3.6/dist-packages/torch/include/TH -I/usr/local/lib/python3.6/dist-packages/torch/include/THC -I/usr/local/cuda/include -I/usr/include/python3.6m -c csrc/multi_tensor_novograd.cu -o build/temp.linux-x86_64-3.6/csrc/multi_tensor_novograd.o -D__CUDA_NO_HALF_OPERATORS__ -D__CUDA_NO_HALF_CONVERSIONS__ -D__CUDA_NO_HALF2_OPERATORS__ --expt-relaxed-constexpr --compiler-options '-fPIC' -lineinfo -O3 --use_fast_math -DVERSION_GE_1_1 -DTORCH_API_INCLUDE_EXTENSION_H -DTORCH_EXTENSION_NAME=amp_C -D_GLIBCXX_USE_CXX11_ABI=0 -std=c++11\n",
            "    /usr/local/cuda/bin/nvcc -I/usr/local/lib/python3.6/dist-packages/torch/include -I/usr/local/lib/python3.6/dist-packages/torch/include/torch/csrc/api/include -I/usr/local/lib/python3.6/dist-packages/torch/include/TH -I/usr/local/lib/python3.6/dist-packages/torch/include/THC -I/usr/local/cuda/include -I/usr/include/python3.6m -c csrc/multi_tensor_lamb.cu -o build/temp.linux-x86_64-3.6/csrc/multi_tensor_lamb.o -D__CUDA_NO_HALF_OPERATORS__ -D__CUDA_NO_HALF_CONVERSIONS__ -D__CUDA_NO_HALF2_OPERATORS__ --expt-relaxed-constexpr --compiler-options '-fPIC' -lineinfo -O3 --use_fast_math -DVERSION_GE_1_1 -DTORCH_API_INCLUDE_EXTENSION_H -DTORCH_EXTENSION_NAME=amp_C -D_GLIBCXX_USE_CXX11_ABI=0 -std=c++11\n",
            "    x86_64-linux-gnu-g++ -pthread -shared -Wl,-O1 -Wl,-Bsymbolic-functions -Wl,-Bsymbolic-functions -Wl,-z,relro -Wl,-Bsymbolic-functions -Wl,-z,relro -g -fstack-protector-strong -Wformat -Werror=format-security -Wdate-time -D_FORTIFY_SOURCE=2 build/temp.linux-x86_64-3.6/csrc/amp_C_frontend.o build/temp.linux-x86_64-3.6/csrc/multi_tensor_sgd_kernel.o build/temp.linux-x86_64-3.6/csrc/multi_tensor_scale_kernel.o build/temp.linux-x86_64-3.6/csrc/multi_tensor_axpby_kernel.o build/temp.linux-x86_64-3.6/csrc/multi_tensor_l2norm_kernel.o build/temp.linux-x86_64-3.6/csrc/multi_tensor_lamb_stage_1.o build/temp.linux-x86_64-3.6/csrc/multi_tensor_lamb_stage_2.o build/temp.linux-x86_64-3.6/csrc/multi_tensor_adam.o build/temp.linux-x86_64-3.6/csrc/multi_tensor_novograd.o build/temp.linux-x86_64-3.6/csrc/multi_tensor_lamb.o -L/usr/local/cuda/lib64 -lcudart -o build/lib.linux-x86_64-3.6/amp_C.cpython-36m-x86_64-linux-gnu.so\n",
            "    building 'syncbn' extension\n",
            "    x86_64-linux-gnu-gcc -pthread -DNDEBUG -g -fwrapv -O2 -Wall -g -fstack-protector-strong -Wformat -Werror=format-security -Wdate-time -D_FORTIFY_SOURCE=2 -fPIC -I/usr/local/lib/python3.6/dist-packages/torch/include -I/usr/local/lib/python3.6/dist-packages/torch/include/torch/csrc/api/include -I/usr/local/lib/python3.6/dist-packages/torch/include/TH -I/usr/local/lib/python3.6/dist-packages/torch/include/THC -I/usr/local/cuda/include -I/usr/include/python3.6m -c csrc/syncbn.cpp -o build/temp.linux-x86_64-3.6/csrc/syncbn.o -O3 -DVERSION_GE_1_1 -DTORCH_API_INCLUDE_EXTENSION_H -DTORCH_EXTENSION_NAME=syncbn -D_GLIBCXX_USE_CXX11_ABI=0 -std=c++11\n",
            "    /usr/local/cuda/bin/nvcc -I/usr/local/lib/python3.6/dist-packages/torch/include -I/usr/local/lib/python3.6/dist-packages/torch/include/torch/csrc/api/include -I/usr/local/lib/python3.6/dist-packages/torch/include/TH -I/usr/local/lib/python3.6/dist-packages/torch/include/THC -I/usr/local/cuda/include -I/usr/include/python3.6m -c csrc/welford.cu -o build/temp.linux-x86_64-3.6/csrc/welford.o -D__CUDA_NO_HALF_OPERATORS__ -D__CUDA_NO_HALF_CONVERSIONS__ -D__CUDA_NO_HALF2_OPERATORS__ --expt-relaxed-constexpr --compiler-options '-fPIC' -O3 -DVERSION_GE_1_1 -DTORCH_API_INCLUDE_EXTENSION_H -DTORCH_EXTENSION_NAME=syncbn -D_GLIBCXX_USE_CXX11_ABI=0 -std=c++11\n",
            "    x86_64-linux-gnu-g++ -pthread -shared -Wl,-O1 -Wl,-Bsymbolic-functions -Wl,-Bsymbolic-functions -Wl,-z,relro -Wl,-Bsymbolic-functions -Wl,-z,relro -g -fstack-protector-strong -Wformat -Werror=format-security -Wdate-time -D_FORTIFY_SOURCE=2 build/temp.linux-x86_64-3.6/csrc/syncbn.o build/temp.linux-x86_64-3.6/csrc/welford.o -L/usr/local/cuda/lib64 -lcudart -o build/lib.linux-x86_64-3.6/syncbn.cpython-36m-x86_64-linux-gnu.so\n",
            "    building 'fused_layer_norm_cuda' extension\n",
            "    x86_64-linux-gnu-gcc -pthread -DNDEBUG -g -fwrapv -O2 -Wall -g -fstack-protector-strong -Wformat -Werror=format-security -Wdate-time -D_FORTIFY_SOURCE=2 -fPIC -I/usr/local/lib/python3.6/dist-packages/torch/include -I/usr/local/lib/python3.6/dist-packages/torch/include/torch/csrc/api/include -I/usr/local/lib/python3.6/dist-packages/torch/include/TH -I/usr/local/lib/python3.6/dist-packages/torch/include/THC -I/usr/local/cuda/include -I/usr/include/python3.6m -c csrc/layer_norm_cuda.cpp -o build/temp.linux-x86_64-3.6/csrc/layer_norm_cuda.o -O3 -DVERSION_GE_1_1 -DTORCH_API_INCLUDE_EXTENSION_H -DTORCH_EXTENSION_NAME=fused_layer_norm_cuda -D_GLIBCXX_USE_CXX11_ABI=0 -std=c++11\n",
            "    /usr/local/cuda/bin/nvcc -I/usr/local/lib/python3.6/dist-packages/torch/include -I/usr/local/lib/python3.6/dist-packages/torch/include/torch/csrc/api/include -I/usr/local/lib/python3.6/dist-packages/torch/include/TH -I/usr/local/lib/python3.6/dist-packages/torch/include/THC -I/usr/local/cuda/include -I/usr/include/python3.6m -c csrc/layer_norm_cuda_kernel.cu -o build/temp.linux-x86_64-3.6/csrc/layer_norm_cuda_kernel.o -D__CUDA_NO_HALF_OPERATORS__ -D__CUDA_NO_HALF_CONVERSIONS__ -D__CUDA_NO_HALF2_OPERATORS__ --expt-relaxed-constexpr --compiler-options '-fPIC' -maxrregcount=50 -O3 --use_fast_math -DVERSION_GE_1_1 -DTORCH_API_INCLUDE_EXTENSION_H -DTORCH_EXTENSION_NAME=fused_layer_norm_cuda -D_GLIBCXX_USE_CXX11_ABI=0 -std=c++11\n",
            "    x86_64-linux-gnu-g++ -pthread -shared -Wl,-O1 -Wl,-Bsymbolic-functions -Wl,-Bsymbolic-functions -Wl,-z,relro -Wl,-Bsymbolic-functions -Wl,-z,relro -g -fstack-protector-strong -Wformat -Werror=format-security -Wdate-time -D_FORTIFY_SOURCE=2 build/temp.linux-x86_64-3.6/csrc/layer_norm_cuda.o build/temp.linux-x86_64-3.6/csrc/layer_norm_cuda_kernel.o -L/usr/local/cuda/lib64 -lcudart -o build/lib.linux-x86_64-3.6/fused_layer_norm_cuda.cpython-36m-x86_64-linux-gnu.so\n",
            "    running install_lib\n",
            "    copying build/lib.linux-x86_64-3.6/syncbn.cpython-36m-x86_64-linux-gnu.so -> /usr/local/lib/python3.6/dist-packages\n",
            "    creating /usr/local/lib/python3.6/dist-packages/apex\n",
            "    creating /usr/local/lib/python3.6/dist-packages/apex/parallel\n",
            "    copying build/lib.linux-x86_64-3.6/apex/parallel/optimized_sync_batchnorm.py -> /usr/local/lib/python3.6/dist-packages/apex/parallel\n",
            "    copying build/lib.linux-x86_64-3.6/apex/parallel/optimized_sync_batchnorm_kernel.py -> /usr/local/lib/python3.6/dist-packages/apex/parallel\n",
            "    copying build/lib.linux-x86_64-3.6/apex/parallel/distributed.py -> /usr/local/lib/python3.6/dist-packages/apex/parallel\n",
            "    copying build/lib.linux-x86_64-3.6/apex/parallel/__init__.py -> /usr/local/lib/python3.6/dist-packages/apex/parallel\n",
            "    copying build/lib.linux-x86_64-3.6/apex/parallel/sync_batchnorm_kernel.py -> /usr/local/lib/python3.6/dist-packages/apex/parallel\n",
            "    copying build/lib.linux-x86_64-3.6/apex/parallel/sync_batchnorm.py -> /usr/local/lib/python3.6/dist-packages/apex/parallel\n",
            "    copying build/lib.linux-x86_64-3.6/apex/parallel/LARC.py -> /usr/local/lib/python3.6/dist-packages/apex/parallel\n",
            "    copying build/lib.linux-x86_64-3.6/apex/parallel/multiproc.py -> /usr/local/lib/python3.6/dist-packages/apex/parallel\n",
            "    creating /usr/local/lib/python3.6/dist-packages/apex/fp16_utils\n",
            "    copying build/lib.linux-x86_64-3.6/apex/fp16_utils/loss_scaler.py -> /usr/local/lib/python3.6/dist-packages/apex/fp16_utils\n",
            "    copying build/lib.linux-x86_64-3.6/apex/fp16_utils/fp16util.py -> /usr/local/lib/python3.6/dist-packages/apex/fp16_utils\n",
            "    copying build/lib.linux-x86_64-3.6/apex/fp16_utils/__init__.py -> /usr/local/lib/python3.6/dist-packages/apex/fp16_utils\n",
            "    copying build/lib.linux-x86_64-3.6/apex/fp16_utils/fp16_optimizer.py -> /usr/local/lib/python3.6/dist-packages/apex/fp16_utils\n",
            "    creating /usr/local/lib/python3.6/dist-packages/apex/multi_tensor_apply\n",
            "    copying build/lib.linux-x86_64-3.6/apex/multi_tensor_apply/multi_tensor_apply.py -> /usr/local/lib/python3.6/dist-packages/apex/multi_tensor_apply\n",
            "    copying build/lib.linux-x86_64-3.6/apex/multi_tensor_apply/__init__.py -> /usr/local/lib/python3.6/dist-packages/apex/multi_tensor_apply\n",
            "    creating /usr/local/lib/python3.6/dist-packages/apex/optimizers\n",
            "    copying build/lib.linux-x86_64-3.6/apex/optimizers/fused_adam.py -> /usr/local/lib/python3.6/dist-packages/apex/optimizers\n",
            "    copying build/lib.linux-x86_64-3.6/apex/optimizers/__init__.py -> /usr/local/lib/python3.6/dist-packages/apex/optimizers\n",
            "    copying build/lib.linux-x86_64-3.6/apex/optimizers/fused_novograd.py -> /usr/local/lib/python3.6/dist-packages/apex/optimizers\n",
            "    copying build/lib.linux-x86_64-3.6/apex/optimizers/fused_lamb.py -> /usr/local/lib/python3.6/dist-packages/apex/optimizers\n",
            "    copying build/lib.linux-x86_64-3.6/apex/optimizers/fused_sgd.py -> /usr/local/lib/python3.6/dist-packages/apex/optimizers\n",
            "    creating /usr/local/lib/python3.6/dist-packages/apex/amp\n",
            "    copying build/lib.linux-x86_64-3.6/apex/amp/_initialize.py -> /usr/local/lib/python3.6/dist-packages/apex/amp\n",
            "    copying build/lib.linux-x86_64-3.6/apex/amp/_process_optimizer.py -> /usr/local/lib/python3.6/dist-packages/apex/amp\n",
            "    copying build/lib.linux-x86_64-3.6/apex/amp/utils.py -> /usr/local/lib/python3.6/dist-packages/apex/amp\n",
            "    copying build/lib.linux-x86_64-3.6/apex/amp/compat.py -> /usr/local/lib/python3.6/dist-packages/apex/amp\n",
            "    copying build/lib.linux-x86_64-3.6/apex/amp/wrap.py -> /usr/local/lib/python3.6/dist-packages/apex/amp\n",
            "    copying build/lib.linux-x86_64-3.6/apex/amp/__version__.py -> /usr/local/lib/python3.6/dist-packages/apex/amp\n",
            "    copying build/lib.linux-x86_64-3.6/apex/amp/frontend.py -> /usr/local/lib/python3.6/dist-packages/apex/amp\n",
            "    copying build/lib.linux-x86_64-3.6/apex/amp/opt.py -> /usr/local/lib/python3.6/dist-packages/apex/amp\n",
            "    copying build/lib.linux-x86_64-3.6/apex/amp/scaler.py -> /usr/local/lib/python3.6/dist-packages/apex/amp\n",
            "    copying build/lib.linux-x86_64-3.6/apex/amp/amp.py -> /usr/local/lib/python3.6/dist-packages/apex/amp\n",
            "    copying build/lib.linux-x86_64-3.6/apex/amp/rnn_compat.py -> /usr/local/lib/python3.6/dist-packages/apex/amp\n",
            "    copying build/lib.linux-x86_64-3.6/apex/amp/__init__.py -> /usr/local/lib/python3.6/dist-packages/apex/amp\n",
            "    creating /usr/local/lib/python3.6/dist-packages/apex/amp/lists\n",
            "    copying build/lib.linux-x86_64-3.6/apex/amp/lists/torch_overrides.py -> /usr/local/lib/python3.6/dist-packages/apex/amp/lists\n",
            "    copying build/lib.linux-x86_64-3.6/apex/amp/lists/tensor_overrides.py -> /usr/local/lib/python3.6/dist-packages/apex/amp/lists\n",
            "    copying build/lib.linux-x86_64-3.6/apex/amp/lists/__init__.py -> /usr/local/lib/python3.6/dist-packages/apex/amp/lists\n",
            "    copying build/lib.linux-x86_64-3.6/apex/amp/lists/functional_overrides.py -> /usr/local/lib/python3.6/dist-packages/apex/amp/lists\n",
            "    copying build/lib.linux-x86_64-3.6/apex/amp/_amp_state.py -> /usr/local/lib/python3.6/dist-packages/apex/amp\n",
            "    copying build/lib.linux-x86_64-3.6/apex/amp/handle.py -> /usr/local/lib/python3.6/dist-packages/apex/amp\n",
            "    creating /usr/local/lib/python3.6/dist-packages/apex/RNN\n",
            "    copying build/lib.linux-x86_64-3.6/apex/RNN/RNNBackend.py -> /usr/local/lib/python3.6/dist-packages/apex/RNN\n",
            "    copying build/lib.linux-x86_64-3.6/apex/RNN/cells.py -> /usr/local/lib/python3.6/dist-packages/apex/RNN\n",
            "    copying build/lib.linux-x86_64-3.6/apex/RNN/models.py -> /usr/local/lib/python3.6/dist-packages/apex/RNN\n",
            "    copying build/lib.linux-x86_64-3.6/apex/RNN/__init__.py -> /usr/local/lib/python3.6/dist-packages/apex/RNN\n",
            "    creating /usr/local/lib/python3.6/dist-packages/apex/reparameterization\n",
            "    copying build/lib.linux-x86_64-3.6/apex/reparameterization/reparameterization.py -> /usr/local/lib/python3.6/dist-packages/apex/reparameterization\n",
            "    copying build/lib.linux-x86_64-3.6/apex/reparameterization/weight_norm.py -> /usr/local/lib/python3.6/dist-packages/apex/reparameterization\n",
            "    copying build/lib.linux-x86_64-3.6/apex/reparameterization/__init__.py -> /usr/local/lib/python3.6/dist-packages/apex/reparameterization\n",
            "    copying build/lib.linux-x86_64-3.6/apex/__init__.py -> /usr/local/lib/python3.6/dist-packages/apex\n",
            "    creating /usr/local/lib/python3.6/dist-packages/apex/pyprof\n",
            "    creating /usr/local/lib/python3.6/dist-packages/apex/pyprof/parse\n",
            "    copying build/lib.linux-x86_64-3.6/apex/pyprof/parse/kernel.py -> /usr/local/lib/python3.6/dist-packages/apex/pyprof/parse\n",
            "    copying build/lib.linux-x86_64-3.6/apex/pyprof/parse/parse.py -> /usr/local/lib/python3.6/dist-packages/apex/pyprof/parse\n",
            "    copying build/lib.linux-x86_64-3.6/apex/pyprof/parse/__init__.py -> /usr/local/lib/python3.6/dist-packages/apex/pyprof/parse\n",
            "    copying build/lib.linux-x86_64-3.6/apex/pyprof/parse/nvvp.py -> /usr/local/lib/python3.6/dist-packages/apex/pyprof/parse\n",
            "    copying build/lib.linux-x86_64-3.6/apex/pyprof/parse/__main__.py -> /usr/local/lib/python3.6/dist-packages/apex/pyprof/parse\n",
            "    copying build/lib.linux-x86_64-3.6/apex/pyprof/parse/db.py -> /usr/local/lib/python3.6/dist-packages/apex/pyprof/parse\n",
            "    copying build/lib.linux-x86_64-3.6/apex/pyprof/__init__.py -> /usr/local/lib/python3.6/dist-packages/apex/pyprof\n",
            "    creating /usr/local/lib/python3.6/dist-packages/apex/pyprof/prof\n",
            "    copying build/lib.linux-x86_64-3.6/apex/pyprof/prof/misc.py -> /usr/local/lib/python3.6/dist-packages/apex/pyprof/prof\n",
            "    copying build/lib.linux-x86_64-3.6/apex/pyprof/prof/blas.py -> /usr/local/lib/python3.6/dist-packages/apex/pyprof/prof\n",
            "    copying build/lib.linux-x86_64-3.6/apex/pyprof/prof/index_slice_join_mutate.py -> /usr/local/lib/python3.6/dist-packages/apex/pyprof/prof\n",
            "    copying build/lib.linux-x86_64-3.6/apex/pyprof/prof/prof.py -> /usr/local/lib/python3.6/dist-packages/apex/pyprof/prof\n",
            "    copying build/lib.linux-x86_64-3.6/apex/pyprof/prof/normalization.py -> /usr/local/lib/python3.6/dist-packages/apex/pyprof/prof\n",
            "    copying build/lib.linux-x86_64-3.6/apex/pyprof/prof/linear.py -> /usr/local/lib/python3.6/dist-packages/apex/pyprof/prof\n",
            "    copying build/lib.linux-x86_64-3.6/apex/pyprof/prof/pointwise.py -> /usr/local/lib/python3.6/dist-packages/apex/pyprof/prof\n",
            "    copying build/lib.linux-x86_64-3.6/apex/pyprof/prof/data.py -> /usr/local/lib/python3.6/dist-packages/apex/pyprof/prof\n",
            "    copying build/lib.linux-x86_64-3.6/apex/pyprof/prof/embedding.py -> /usr/local/lib/python3.6/dist-packages/apex/pyprof/prof\n",
            "    copying build/lib.linux-x86_64-3.6/apex/pyprof/prof/activation.py -> /usr/local/lib/python3.6/dist-packages/apex/pyprof/prof\n",
            "    copying build/lib.linux-x86_64-3.6/apex/pyprof/prof/recurrentCell.py -> /usr/local/lib/python3.6/dist-packages/apex/pyprof/prof\n",
            "    copying build/lib.linux-x86_64-3.6/apex/pyprof/prof/base.py -> /usr/local/lib/python3.6/dist-packages/apex/pyprof/prof\n",
            "    copying build/lib.linux-x86_64-3.6/apex/pyprof/prof/output.py -> /usr/local/lib/python3.6/dist-packages/apex/pyprof/prof\n",
            "    copying build/lib.linux-x86_64-3.6/apex/pyprof/prof/conv.py -> /usr/local/lib/python3.6/dist-packages/apex/pyprof/prof\n",
            "    copying build/lib.linux-x86_64-3.6/apex/pyprof/prof/optim.py -> /usr/local/lib/python3.6/dist-packages/apex/pyprof/prof\n",
            "    copying build/lib.linux-x86_64-3.6/apex/pyprof/prof/randomSample.py -> /usr/local/lib/python3.6/dist-packages/apex/pyprof/prof\n",
            "    copying build/lib.linux-x86_64-3.6/apex/pyprof/prof/softmax.py -> /usr/local/lib/python3.6/dist-packages/apex/pyprof/prof\n",
            "    copying build/lib.linux-x86_64-3.6/apex/pyprof/prof/utility.py -> /usr/local/lib/python3.6/dist-packages/apex/pyprof/prof\n",
            "    copying build/lib.linux-x86_64-3.6/apex/pyprof/prof/__init__.py -> /usr/local/lib/python3.6/dist-packages/apex/pyprof/prof\n",
            "    copying build/lib.linux-x86_64-3.6/apex/pyprof/prof/loss.py -> /usr/local/lib/python3.6/dist-packages/apex/pyprof/prof\n",
            "    copying build/lib.linux-x86_64-3.6/apex/pyprof/prof/dropout.py -> /usr/local/lib/python3.6/dist-packages/apex/pyprof/prof\n",
            "    copying build/lib.linux-x86_64-3.6/apex/pyprof/prof/__main__.py -> /usr/local/lib/python3.6/dist-packages/apex/pyprof/prof\n",
            "    copying build/lib.linux-x86_64-3.6/apex/pyprof/prof/reduction.py -> /usr/local/lib/python3.6/dist-packages/apex/pyprof/prof\n",
            "    copying build/lib.linux-x86_64-3.6/apex/pyprof/prof/usage.py -> /usr/local/lib/python3.6/dist-packages/apex/pyprof/prof\n",
            "    copying build/lib.linux-x86_64-3.6/apex/pyprof/prof/pooling.py -> /usr/local/lib/python3.6/dist-packages/apex/pyprof/prof\n",
            "    copying build/lib.linux-x86_64-3.6/apex/pyprof/prof/convert.py -> /usr/local/lib/python3.6/dist-packages/apex/pyprof/prof\n",
            "    creating /usr/local/lib/python3.6/dist-packages/apex/pyprof/nvtx\n",
            "    copying build/lib.linux-x86_64-3.6/apex/pyprof/nvtx/__init__.py -> /usr/local/lib/python3.6/dist-packages/apex/pyprof/nvtx\n",
            "    copying build/lib.linux-x86_64-3.6/apex/pyprof/nvtx/nvmarker.py -> /usr/local/lib/python3.6/dist-packages/apex/pyprof/nvtx\n",
            "    creating /usr/local/lib/python3.6/dist-packages/apex/normalization\n",
            "    copying build/lib.linux-x86_64-3.6/apex/normalization/fused_layer_norm.py -> /usr/local/lib/python3.6/dist-packages/apex/normalization\n",
            "    copying build/lib.linux-x86_64-3.6/apex/normalization/__init__.py -> /usr/local/lib/python3.6/dist-packages/apex/normalization\n",
            "    creating /usr/local/lib/python3.6/dist-packages/apex/contrib\n",
            "    creating /usr/local/lib/python3.6/dist-packages/apex/contrib/optimizers\n",
            "    copying build/lib.linux-x86_64-3.6/apex/contrib/optimizers/fused_adam.py -> /usr/local/lib/python3.6/dist-packages/apex/contrib/optimizers\n",
            "    copying build/lib.linux-x86_64-3.6/apex/contrib/optimizers/__init__.py -> /usr/local/lib/python3.6/dist-packages/apex/contrib/optimizers\n",
            "    copying build/lib.linux-x86_64-3.6/apex/contrib/optimizers/fp16_optimizer.py -> /usr/local/lib/python3.6/dist-packages/apex/contrib/optimizers\n",
            "    creating /usr/local/lib/python3.6/dist-packages/apex/contrib/xentropy\n",
            "    copying build/lib.linux-x86_64-3.6/apex/contrib/xentropy/softmax_xentropy.py -> /usr/local/lib/python3.6/dist-packages/apex/contrib/xentropy\n",
            "    copying build/lib.linux-x86_64-3.6/apex/contrib/xentropy/__init__.py -> /usr/local/lib/python3.6/dist-packages/apex/contrib/xentropy\n",
            "    creating /usr/local/lib/python3.6/dist-packages/apex/contrib/groupbn\n",
            "    copying build/lib.linux-x86_64-3.6/apex/contrib/groupbn/__init__.py -> /usr/local/lib/python3.6/dist-packages/apex/contrib/groupbn\n",
            "    copying build/lib.linux-x86_64-3.6/apex/contrib/groupbn/batch_norm.py -> /usr/local/lib/python3.6/dist-packages/apex/contrib/groupbn\n",
            "    copying build/lib.linux-x86_64-3.6/apex/contrib/__init__.py -> /usr/local/lib/python3.6/dist-packages/apex/contrib\n",
            "    copying build/lib.linux-x86_64-3.6/amp_C.cpython-36m-x86_64-linux-gnu.so -> /usr/local/lib/python3.6/dist-packages\n",
            "    copying build/lib.linux-x86_64-3.6/apex_C.cpython-36m-x86_64-linux-gnu.so -> /usr/local/lib/python3.6/dist-packages\n",
            "    copying build/lib.linux-x86_64-3.6/fused_layer_norm_cuda.cpython-36m-x86_64-linux-gnu.so -> /usr/local/lib/python3.6/dist-packages\n",
            "    byte-compiling /usr/local/lib/python3.6/dist-packages/apex/parallel/optimized_sync_batchnorm.py to optimized_sync_batchnorm.cpython-36.pyc\n",
            "    byte-compiling /usr/local/lib/python3.6/dist-packages/apex/parallel/optimized_sync_batchnorm_kernel.py to optimized_sync_batchnorm_kernel.cpython-36.pyc\n",
            "    byte-compiling /usr/local/lib/python3.6/dist-packages/apex/parallel/distributed.py to distributed.cpython-36.pyc\n",
            "    byte-compiling /usr/local/lib/python3.6/dist-packages/apex/parallel/__init__.py to __init__.cpython-36.pyc\n",
            "    byte-compiling /usr/local/lib/python3.6/dist-packages/apex/parallel/sync_batchnorm_kernel.py to sync_batchnorm_kernel.cpython-36.pyc\n",
            "    byte-compiling /usr/local/lib/python3.6/dist-packages/apex/parallel/sync_batchnorm.py to sync_batchnorm.cpython-36.pyc\n",
            "    byte-compiling /usr/local/lib/python3.6/dist-packages/apex/parallel/LARC.py to LARC.cpython-36.pyc\n",
            "    byte-compiling /usr/local/lib/python3.6/dist-packages/apex/parallel/multiproc.py to multiproc.cpython-36.pyc\n",
            "    byte-compiling /usr/local/lib/python3.6/dist-packages/apex/fp16_utils/loss_scaler.py to loss_scaler.cpython-36.pyc\n",
            "    byte-compiling /usr/local/lib/python3.6/dist-packages/apex/fp16_utils/fp16util.py to fp16util.cpython-36.pyc\n",
            "    byte-compiling /usr/local/lib/python3.6/dist-packages/apex/fp16_utils/__init__.py to __init__.cpython-36.pyc\n",
            "    byte-compiling /usr/local/lib/python3.6/dist-packages/apex/fp16_utils/fp16_optimizer.py to fp16_optimizer.cpython-36.pyc\n",
            "    byte-compiling /usr/local/lib/python3.6/dist-packages/apex/multi_tensor_apply/multi_tensor_apply.py to multi_tensor_apply.cpython-36.pyc\n",
            "    byte-compiling /usr/local/lib/python3.6/dist-packages/apex/multi_tensor_apply/__init__.py to __init__.cpython-36.pyc\n",
            "    byte-compiling /usr/local/lib/python3.6/dist-packages/apex/optimizers/fused_adam.py to fused_adam.cpython-36.pyc\n",
            "    byte-compiling /usr/local/lib/python3.6/dist-packages/apex/optimizers/__init__.py to __init__.cpython-36.pyc\n",
            "    byte-compiling /usr/local/lib/python3.6/dist-packages/apex/optimizers/fused_novograd.py to fused_novograd.cpython-36.pyc\n",
            "    byte-compiling /usr/local/lib/python3.6/dist-packages/apex/optimizers/fused_lamb.py to fused_lamb.cpython-36.pyc\n",
            "    byte-compiling /usr/local/lib/python3.6/dist-packages/apex/optimizers/fused_sgd.py to fused_sgd.cpython-36.pyc\n",
            "    byte-compiling /usr/local/lib/python3.6/dist-packages/apex/amp/_initialize.py to _initialize.cpython-36.pyc\n",
            "    byte-compiling /usr/local/lib/python3.6/dist-packages/apex/amp/_process_optimizer.py to _process_optimizer.cpython-36.pyc\n",
            "    byte-compiling /usr/local/lib/python3.6/dist-packages/apex/amp/utils.py to utils.cpython-36.pyc\n",
            "    byte-compiling /usr/local/lib/python3.6/dist-packages/apex/amp/compat.py to compat.cpython-36.pyc\n",
            "    byte-compiling /usr/local/lib/python3.6/dist-packages/apex/amp/wrap.py to wrap.cpython-36.pyc\n",
            "    byte-compiling /usr/local/lib/python3.6/dist-packages/apex/amp/__version__.py to __version__.cpython-36.pyc\n",
            "    byte-compiling /usr/local/lib/python3.6/dist-packages/apex/amp/frontend.py to frontend.cpython-36.pyc\n",
            "    byte-compiling /usr/local/lib/python3.6/dist-packages/apex/amp/opt.py to opt.cpython-36.pyc\n",
            "    byte-compiling /usr/local/lib/python3.6/dist-packages/apex/amp/scaler.py to scaler.cpython-36.pyc\n",
            "    byte-compiling /usr/local/lib/python3.6/dist-packages/apex/amp/amp.py to amp.cpython-36.pyc\n",
            "    byte-compiling /usr/local/lib/python3.6/dist-packages/apex/amp/rnn_compat.py to rnn_compat.cpython-36.pyc\n",
            "    byte-compiling /usr/local/lib/python3.6/dist-packages/apex/amp/__init__.py to __init__.cpython-36.pyc\n",
            "    byte-compiling /usr/local/lib/python3.6/dist-packages/apex/amp/lists/torch_overrides.py to torch_overrides.cpython-36.pyc\n",
            "    byte-compiling /usr/local/lib/python3.6/dist-packages/apex/amp/lists/tensor_overrides.py to tensor_overrides.cpython-36.pyc\n",
            "    byte-compiling /usr/local/lib/python3.6/dist-packages/apex/amp/lists/__init__.py to __init__.cpython-36.pyc\n",
            "    byte-compiling /usr/local/lib/python3.6/dist-packages/apex/amp/lists/functional_overrides.py to functional_overrides.cpython-36.pyc\n",
            "    byte-compiling /usr/local/lib/python3.6/dist-packages/apex/amp/_amp_state.py to _amp_state.cpython-36.pyc\n",
            "    byte-compiling /usr/local/lib/python3.6/dist-packages/apex/amp/handle.py to handle.cpython-36.pyc\n",
            "    byte-compiling /usr/local/lib/python3.6/dist-packages/apex/RNN/RNNBackend.py to RNNBackend.cpython-36.pyc\n",
            "    byte-compiling /usr/local/lib/python3.6/dist-packages/apex/RNN/cells.py to cells.cpython-36.pyc\n",
            "    byte-compiling /usr/local/lib/python3.6/dist-packages/apex/RNN/models.py to models.cpython-36.pyc\n",
            "    byte-compiling /usr/local/lib/python3.6/dist-packages/apex/RNN/__init__.py to __init__.cpython-36.pyc\n",
            "    byte-compiling /usr/local/lib/python3.6/dist-packages/apex/reparameterization/reparameterization.py to reparameterization.cpython-36.pyc\n",
            "    byte-compiling /usr/local/lib/python3.6/dist-packages/apex/reparameterization/weight_norm.py to weight_norm.cpython-36.pyc\n",
            "    byte-compiling /usr/local/lib/python3.6/dist-packages/apex/reparameterization/__init__.py to __init__.cpython-36.pyc\n",
            "    byte-compiling /usr/local/lib/python3.6/dist-packages/apex/__init__.py to __init__.cpython-36.pyc\n",
            "    byte-compiling /usr/local/lib/python3.6/dist-packages/apex/pyprof/parse/kernel.py to kernel.cpython-36.pyc\n",
            "    byte-compiling /usr/local/lib/python3.6/dist-packages/apex/pyprof/parse/parse.py to parse.cpython-36.pyc\n",
            "    byte-compiling /usr/local/lib/python3.6/dist-packages/apex/pyprof/parse/__init__.py to __init__.cpython-36.pyc\n",
            "    byte-compiling /usr/local/lib/python3.6/dist-packages/apex/pyprof/parse/nvvp.py to nvvp.cpython-36.pyc\n",
            "    byte-compiling /usr/local/lib/python3.6/dist-packages/apex/pyprof/parse/__main__.py to __main__.cpython-36.pyc\n",
            "    byte-compiling /usr/local/lib/python3.6/dist-packages/apex/pyprof/parse/db.py to db.cpython-36.pyc\n",
            "    byte-compiling /usr/local/lib/python3.6/dist-packages/apex/pyprof/__init__.py to __init__.cpython-36.pyc\n",
            "    byte-compiling /usr/local/lib/python3.6/dist-packages/apex/pyprof/prof/misc.py to misc.cpython-36.pyc\n",
            "    byte-compiling /usr/local/lib/python3.6/dist-packages/apex/pyprof/prof/blas.py to blas.cpython-36.pyc\n",
            "    byte-compiling /usr/local/lib/python3.6/dist-packages/apex/pyprof/prof/index_slice_join_mutate.py to index_slice_join_mutate.cpython-36.pyc\n",
            "    byte-compiling /usr/local/lib/python3.6/dist-packages/apex/pyprof/prof/prof.py to prof.cpython-36.pyc\n",
            "    byte-compiling /usr/local/lib/python3.6/dist-packages/apex/pyprof/prof/normalization.py to normalization.cpython-36.pyc\n",
            "    byte-compiling /usr/local/lib/python3.6/dist-packages/apex/pyprof/prof/linear.py to linear.cpython-36.pyc\n",
            "    byte-compiling /usr/local/lib/python3.6/dist-packages/apex/pyprof/prof/pointwise.py to pointwise.cpython-36.pyc\n",
            "    byte-compiling /usr/local/lib/python3.6/dist-packages/apex/pyprof/prof/data.py to data.cpython-36.pyc\n",
            "    byte-compiling /usr/local/lib/python3.6/dist-packages/apex/pyprof/prof/embedding.py to embedding.cpython-36.pyc\n",
            "    byte-compiling /usr/local/lib/python3.6/dist-packages/apex/pyprof/prof/activation.py to activation.cpython-36.pyc\n",
            "    byte-compiling /usr/local/lib/python3.6/dist-packages/apex/pyprof/prof/recurrentCell.py to recurrentCell.cpython-36.pyc\n",
            "    byte-compiling /usr/local/lib/python3.6/dist-packages/apex/pyprof/prof/base.py to base.cpython-36.pyc\n",
            "    byte-compiling /usr/local/lib/python3.6/dist-packages/apex/pyprof/prof/output.py to output.cpython-36.pyc\n",
            "    byte-compiling /usr/local/lib/python3.6/dist-packages/apex/pyprof/prof/conv.py to conv.cpython-36.pyc\n",
            "    byte-compiling /usr/local/lib/python3.6/dist-packages/apex/pyprof/prof/optim.py to optim.cpython-36.pyc\n",
            "    byte-compiling /usr/local/lib/python3.6/dist-packages/apex/pyprof/prof/randomSample.py to randomSample.cpython-36.pyc\n",
            "    byte-compiling /usr/local/lib/python3.6/dist-packages/apex/pyprof/prof/softmax.py to softmax.cpython-36.pyc\n",
            "    byte-compiling /usr/local/lib/python3.6/dist-packages/apex/pyprof/prof/utility.py to utility.cpython-36.pyc\n",
            "    byte-compiling /usr/local/lib/python3.6/dist-packages/apex/pyprof/prof/__init__.py to __init__.cpython-36.pyc\n",
            "    byte-compiling /usr/local/lib/python3.6/dist-packages/apex/pyprof/prof/loss.py to loss.cpython-36.pyc\n",
            "    byte-compiling /usr/local/lib/python3.6/dist-packages/apex/pyprof/prof/dropout.py to dropout.cpython-36.pyc\n",
            "    byte-compiling /usr/local/lib/python3.6/dist-packages/apex/pyprof/prof/__main__.py to __main__.cpython-36.pyc\n",
            "    byte-compiling /usr/local/lib/python3.6/dist-packages/apex/pyprof/prof/reduction.py to reduction.cpython-36.pyc\n",
            "    byte-compiling /usr/local/lib/python3.6/dist-packages/apex/pyprof/prof/usage.py to usage.cpython-36.pyc\n",
            "    byte-compiling /usr/local/lib/python3.6/dist-packages/apex/pyprof/prof/pooling.py to pooling.cpython-36.pyc\n",
            "    byte-compiling /usr/local/lib/python3.6/dist-packages/apex/pyprof/prof/convert.py to convert.cpython-36.pyc\n",
            "    byte-compiling /usr/local/lib/python3.6/dist-packages/apex/pyprof/nvtx/__init__.py to __init__.cpython-36.pyc\n",
            "    byte-compiling /usr/local/lib/python3.6/dist-packages/apex/pyprof/nvtx/nvmarker.py to nvmarker.cpython-36.pyc\n",
            "    byte-compiling /usr/local/lib/python3.6/dist-packages/apex/normalization/fused_layer_norm.py to fused_layer_norm.cpython-36.pyc\n",
            "    byte-compiling /usr/local/lib/python3.6/dist-packages/apex/normalization/__init__.py to __init__.cpython-36.pyc\n",
            "    byte-compiling /usr/local/lib/python3.6/dist-packages/apex/contrib/optimizers/fused_adam.py to fused_adam.cpython-36.pyc\n",
            "    byte-compiling /usr/local/lib/python3.6/dist-packages/apex/contrib/optimizers/__init__.py to __init__.cpython-36.pyc\n",
            "    byte-compiling /usr/local/lib/python3.6/dist-packages/apex/contrib/optimizers/fp16_optimizer.py to fp16_optimizer.cpython-36.pyc\n",
            "    byte-compiling /usr/local/lib/python3.6/dist-packages/apex/contrib/xentropy/softmax_xentropy.py to softmax_xentropy.cpython-36.pyc\n",
            "    byte-compiling /usr/local/lib/python3.6/dist-packages/apex/contrib/xentropy/__init__.py to __init__.cpython-36.pyc\n",
            "    byte-compiling /usr/local/lib/python3.6/dist-packages/apex/contrib/groupbn/__init__.py to __init__.cpython-36.pyc\n",
            "    byte-compiling /usr/local/lib/python3.6/dist-packages/apex/contrib/groupbn/batch_norm.py to batch_norm.cpython-36.pyc\n",
            "    byte-compiling /usr/local/lib/python3.6/dist-packages/apex/contrib/__init__.py to __init__.cpython-36.pyc\n",
            "    running install_egg_info\n",
            "    running egg_info\n",
            "    creating apex.egg-info\n",
            "    writing apex.egg-info/PKG-INFO\n",
            "    writing dependency_links to apex.egg-info/dependency_links.txt\n",
            "    writing top-level names to apex.egg-info/top_level.txt\n",
            "    writing manifest file 'apex.egg-info/SOURCES.txt'\n",
            "    writing manifest file 'apex.egg-info/SOURCES.txt'\n",
            "    Copying apex.egg-info to /usr/local/lib/python3.6/dist-packages/apex-0.1-py3.6.egg-info\n",
            "    running install_scripts\n",
            "    writing list of installed files to '/tmp/pip-record-7zhipet4/install-record.txt'\n",
            "    Running setup.py install for apex ... \u001b[?25l\u001b[?25hdone\n",
            "  Removing source in /tmp/pip-req-build-sqki5bid\n",
            "Successfully installed apex-0.1\n",
            "Cleaning up...\n",
            "Removed build tracker '/tmp/pip-req-tracker-wtrl8674'\n"
          ],
          "name": "stdout"
        }
      ]
    },
    {
      "cell_type": "markdown",
      "metadata": {
        "id": "WdgtkS7H7J1G",
        "colab_type": "text"
      },
      "source": [
        "# Mount the google drive"
      ]
    },
    {
      "cell_type": "markdown",
      "metadata": {
        "id": "xlTlA8EZI4Ds",
        "colab_type": "text"
      },
      "source": [
        "# Helper Functions\n",
        "\n"
      ]
    },
    {
      "cell_type": "code",
      "metadata": {
        "id": "JEQmbzQZ78Ls",
        "colab_type": "code",
        "colab": {}
      },
      "source": [
        "def get_img(x, folder: str='train_images'):\n",
        "    \"\"\"\n",
        "    Return image based on image name and folder.\n",
        "    \"\"\"\n",
        "    data_folder = f\"{path}/{folder}\"\n",
        "    image_path = os.path.join(data_folder, x)\n",
        "    img = cv2.imread(image_path)\n",
        "    img = cv2.cvtColor(img, cv2.COLOR_BGR2RGB)\n",
        "    return img\n",
        "\n",
        "\n",
        "def rle_decode(mask_rle: str = '', shape: tuple = (1400, 2100)):\n",
        "    '''\n",
        "    Decode rle encoded mask.\n",
        "    \n",
        "    :param mask_rle: run-length as string formatted (start length)\n",
        "    :param shape: (height, width) of array to return \n",
        "    Returns numpy array, 1 - mask, 0 - background\n",
        "    '''\n",
        "    s = mask_rle.split()\n",
        "    starts, lengths = [np.asarray(x, dtype=int) for x in (s[0:][::2], s[1:][::2])]\n",
        "    starts -= 1\n",
        "    ends = starts + lengths\n",
        "    img = np.zeros(shape[0] * shape[1], dtype=np.uint8)\n",
        "    for lo, hi in zip(starts, ends):\n",
        "        img[lo:hi] = 1\n",
        "    return img.reshape(shape, order='F')\n",
        "\n",
        "\n",
        "def make_mask(df: pd.DataFrame, image_name: str='img.jpg', shape: tuple = (1400, 2100)):\n",
        "    \"\"\"\n",
        "    Create mask based on df, image name and shape.\n",
        "\n",
        "    [OUTPUTS]:\n",
        "    masks: an array with shape (shape[0], shape[1], 4).\n",
        "      Mask for each class labels.\n",
        "    \"\"\"\n",
        "    encoded_masks = df.loc[df['im_id'] == image_name, 'EncodedPixels']\n",
        "    masks = np.zeros((shape[0], shape[1], 4), dtype=np.float32)\n",
        "\n",
        "    for idx, label in enumerate(encoded_masks.values):\n",
        "        if label is not np.nan:\n",
        "            mask = rle_decode(label)\n",
        "            masks[:, :, idx] = mask\n",
        "            \n",
        "    return masks\n",
        "\n",
        "\n",
        "def to_tensor(x, **kwargs):\n",
        "    \"\"\"\n",
        "    Convert image or mask.\n",
        "    \"\"\"\n",
        "    return x.transpose(2, 0, 1).astype('float32')\n",
        "\n",
        "\n",
        "def mask2rle(img):\n",
        "    '''\n",
        "    Convert mask to rle.\n",
        "    img: numpy array, 1 - mask, 0 - background\n",
        "    Returns run length as string formated\n",
        "    '''\n",
        "    pixels= img.T.flatten()\n",
        "    pixels = np.concatenate([[0], pixels, [0]])\n",
        "    runs = np.where(pixels[1:] != pixels[:-1])[0] + 1\n",
        "    runs[1::2] -= runs[::2]\n",
        "    return ' '.join(str(x) for x in runs)\n",
        "\n",
        "\n",
        "def visualize(image, mask, original_image=None, original_mask=None):\n",
        "    \"\"\"\n",
        "    Plot image and masks.\n",
        "    If two pairs of images and masks are passes, show both.\n",
        "    \"\"\"\n",
        "    fontsize = 14\n",
        "    class_dict = {0: 'Fish', 1: 'Flower', 2: 'Gravel', 3: 'Sugar'}\n",
        "    \n",
        "    if original_image is None and original_mask is None:\n",
        "        f, ax = plt.subplots(1, 5, figsize=(24, 24))\n",
        "\n",
        "        ax[0].imshow(image)\n",
        "        for i in range(4):\n",
        "            ax[i + 1].imshow(mask[:, :, i])\n",
        "            ax[i + 1].set_title(f'Mask {class_dict[i]}', fontsize=fontsize)\n",
        "    else:\n",
        "        f, ax = plt.subplots(2, 5, figsize=(24, 12))\n",
        "\n",
        "        ax[0, 0].imshow(original_image)\n",
        "        ax[0, 0].set_title('Original image', fontsize=fontsize)\n",
        "                \n",
        "        for i in range(4):\n",
        "            ax[0, i + 1].imshow(original_mask[:, :, i])\n",
        "            ax[0, i + 1].set_title(f'Original mask {class_dict[i]}', fontsize=fontsize)\n",
        "        \n",
        "        ax[1, 0].imshow(image)\n",
        "        ax[1, 0].set_title('Transformed image', fontsize=fontsize)\n",
        "        \n",
        "        \n",
        "        for i in range(4):\n",
        "            ax[1, i + 1].imshow(mask[:, :, i])\n",
        "            ax[1, i + 1].set_title(f'Transformed mask {class_dict[i]}', fontsize=fontsize)\n",
        "            \n",
        "            \n",
        "def visualize_with_raw(image, mask, original_image=None, original_mask=None, raw_image=None, raw_mask=None):\n",
        "    \"\"\"\n",
        "    Plot image and masks.\n",
        "    If two pairs of images and masks are passes, show both.\n",
        "    \"\"\"\n",
        "    fontsize = 14\n",
        "    class_dict = {0: 'Fish', 1: 'Flower', 2: 'Gravel', 3: 'Sugar'}\n",
        "\n",
        "    f, ax = plt.subplots(3, 5, figsize=(24, 12))\n",
        "\n",
        "    ax[0, 0].imshow(original_image)\n",
        "    ax[0, 0].set_title('Original image', fontsize=fontsize)\n",
        "\n",
        "    for i in range(4):\n",
        "        ax[0, i + 1].imshow(original_mask[:, :, i])\n",
        "        ax[0, i + 1].set_title(f'Original mask {class_dict[i]}', fontsize=fontsize)\n",
        "\n",
        "\n",
        "    ax[1, 0].imshow(raw_image)\n",
        "    ax[1, 0].set_title('Original image', fontsize=fontsize)\n",
        "\n",
        "    for i in range(4):\n",
        "        ax[1, i + 1].imshow(raw_mask[:, :, i])\n",
        "        ax[1, i + 1].set_title(f'Raw predicted mask {class_dict[i]}', fontsize=fontsize)\n",
        "        \n",
        "    ax[2, 0].imshow(image)\n",
        "    ax[2, 0].set_title('Transformed image', fontsize=fontsize)\n",
        "\n",
        "\n",
        "    for i in range(4):\n",
        "        ax[2, i + 1].imshow(mask[:, :, i])\n",
        "        ax[2, i + 1].set_title(f'Predicted mask with processing {class_dict[i]}', fontsize=fontsize)\n",
        "            \n",
        "            \n",
        "def plot_with_augmentation(image, mask, augment):\n",
        "    \"\"\"\n",
        "    Wrapper for `visualize` function.\n",
        "    \"\"\"\n",
        "    augmented = augment(image=image, mask=mask)\n",
        "    image_flipped = augmented['image']\n",
        "    mask_flipped = augmented['mask']\n",
        "    visualize(image_flipped, mask_flipped, original_image=image, original_mask=mask)\n",
        "\n",
        "  \n",
        "    \n",
        "sigmoid = lambda x: 1 / (1 + np.exp(-x))\n",
        "\n",
        "\n",
        "def post_process(probability, threshold, min_size):\n",
        "    \"\"\"\n",
        "    Post processing of each predicted mask, components with lesser number of pixels\n",
        "    than `min_size` are ignored\n",
        "    \"\"\"\n",
        "    # don't remember where I saw it\n",
        "    mask = cv2.threshold(probability, threshold, 1, cv2.THRESH_BINARY)[1]\n",
        "    num_component, component = cv2.connectedComponents(mask.astype(np.uint8))\n",
        "    predictions = np.zeros((350, 525), np.float32)\n",
        "    num = 0\n",
        "    for c in range(1, num_component):\n",
        "        p = (component == c)\n",
        "        if p.sum() > min_size:\n",
        "            predictions[p] = 1\n",
        "            num += 1\n",
        "    return predictions, num\n",
        "\n",
        "\n",
        "def get_training_augmentation():\n",
        "    \"\"\"\n",
        "    Define the preprocessing for the training data. \n",
        "    \"\"\"\n",
        "    train_transform = [\n",
        "        albu.HorizontalFlip(p=0.5),\n",
        "        albu.ShiftScaleRotate(scale_limit=0.5, rotate_limit=0, shift_limit=0.1, p=0.5, border_mode=0),\n",
        "        albu.GridDistortion(p=0.5),\n",
        "        albu.OpticalDistortion(p=0.5, distort_limit=2, shift_limit=0.5),\n",
        "        albu.Resize(320, 640)\n",
        "    ]\n",
        "    return albu.Compose(train_transform)\n",
        "\n",
        "\n",
        "def get_validation_augmentation():\n",
        "    \"\"\"Add paddings to make image shape divisible by 32\"\"\"\n",
        "    test_transform = [\n",
        "        albu.Resize(320, 640)\n",
        "    ]\n",
        "    return albu.Compose(test_transform)\n",
        "\n",
        "\n",
        "def get_preprocessing(preprocessing_fn):\n",
        "    \"\"\"Construct preprocessing transform\n",
        "    \n",
        "    Args:\n",
        "        preprocessing_fn (callbale): data normalization function \n",
        "            (can be specific for each pretrained neural network)\n",
        "    Return:\n",
        "        transform: albumentations.Compose\n",
        "    \n",
        "    \"\"\"\n",
        "    \n",
        "    _transform = [\n",
        "        albu.augmentations.transforms.Lambda(image=preprocessing_fn),\n",
        "        albu.augmentations.transforms.Lambda(image=to_tensor, mask=to_tensor),\n",
        "    ]\n",
        "    return albu.Compose(_transform)\n",
        "\n",
        "\n",
        "def dice(img1, img2):\n",
        "    img1 = np.asarray(img1).astype(np.bool)\n",
        "    img2 = np.asarray(img2).astype(np.bool)\n",
        "\n",
        "    intersection = np.logical_and(img1, img2)\n",
        "\n",
        "    return 2. * intersection.sum() / (img1.sum() + img2.sum())"
      ],
      "execution_count": 0,
      "outputs": []
    },
    {
      "cell_type": "code",
      "metadata": {
        "id": "Pr4oyR37Ke2Q",
        "colab_type": "code",
        "colab": {}
      },
      "source": [
        "path = '/content/gdrive/My Drive/kaggle_cloud/data'\n",
        "\n",
        "\n",
        "def get_data(path, n_samples=None):\n",
        "  \"\"\"\n",
        "  Read the taining data information, including image id and labels. \n",
        "  \"\"\"\n",
        "  train = pd.read_csv(f'{path}/train.csv')\n",
        "  sub = pd.read_csv(f'{path}/sample_submission.csv')\n",
        "  print(\"Reading the training csv...\")\n",
        "  print(train.columns)\n",
        "  print(train.shape)\n",
        "\n",
        "  n_train = len(os.listdir(f'{path}/train_images'))\n",
        "  print(\"Reading the training images...\")\n",
        "  print(f'There are {n_train} images in the original train dataset')\n",
        "\n",
        "  if n_samples: \n",
        "    train = train.iloc[:n_samples, :]\n",
        "    print(f'Use {n_samples} images within the training dataset.')\n",
        "\n",
        "\n",
        "  train['label'] = train['Image_Label'].apply(lambda x: x.split('_')[1])\n",
        "  train['im_id'] = train['Image_Label'].apply(lambda x: x.split('_')[0])\n",
        "\n",
        "  sub['label'] = sub['Image_Label'].apply(lambda x: x.split('_')[1])\n",
        "  sub['im_id'] = sub['Image_Label'].apply(lambda x: x.split('_')[0])\n",
        "\n",
        "  return train, sub\n",
        "\n",
        "\n",
        "def display_images_with_masks(path, train):\n",
        "  \"\"\"\n",
        "  Randomly choose 4 images from the training dataset, and plot them with the masks.\n",
        "  \"\"\"\n",
        "\n",
        "  fig = plt.figure(figsize=(25, 16))\n",
        "  for j, im_id in enumerate(np.random.choice(train['im_id'].unique(), 4)):\n",
        "      for i, (idx, row) in enumerate(train.loc[train['im_id'] == im_id].iterrows()):\n",
        "          ax = fig.add_subplot(5, 4, j * 4 + i + 1, xticks=[], yticks=[])\n",
        "          im = Image.open(f\"{path}/train_images/{row['Image_Label'].split('_')[0]}\")\n",
        "          plt.imshow(im)\n",
        "          mask_rle = row['EncodedPixels']\n",
        "          try: # label might not be there!\n",
        "              mask = rle_decode(mask_rle)\n",
        "          except:\n",
        "              mask = np.zeros((1400, 2100))\n",
        "          plt.imshow(mask, alpha=0.5, cmap='gray')\n",
        "          ax.set_title(f\"Image: {row['Image_Label'].split('_')[0]}. Label: {row['label']}\")\n",
        "\n",
        "\n",
        "def split_data(train, sub):\n",
        "  \"\"\"\n",
        "  Split the training dataset into train/valid datasets, and use all the data in \n",
        "  the submission dataset as test data. \n",
        "\n",
        "  [OUTPUTS]:\n",
        "  train_ids/valid_ids/test_ids: array of image ids(str). \n",
        "  \"\"\"\n",
        "  train_labels = train.loc[train['EncodedPixels'].isnull() == False, 'Image_Label']\n",
        "  id_mask_count = train_labels.apply(lambda x: x.split('_')[0]).value_counts()\n",
        "  id_mask_count = id_mask_count.reset_index().rename(columns={'index': 'img_id', 'Image_Label': 'count'})\n",
        "  train_ids, valid_ids = train_test_split(id_mask_count['img_id'].values,\n",
        "                                          random_state=42,\n",
        "                                          stratify=id_mask_count['count'],\n",
        "                                          test_size=0.1)\n",
        " \n",
        "  # Alternatively, we can use sub['im_id'] directly. \n",
        "  test_ids = sub['Image_Label'].apply(lambda x: x.split('_')[0]).drop_duplicates().values\n",
        "  \n",
        "  return train_ids, valid_ids, test_ids\n",
        "\n",
        "\n",
        "class CloudDataset(Dataset):\n",
        "    def __init__(self, df: pd.DataFrame = None, datatype: str = 'train', img_ids: np.array = None,\n",
        "                 transforms = albu.Compose([albu.HorizontalFlip(),AT.ToTensor()]),\n",
        "                 preprocessing=None):\n",
        "        \"\"\"\n",
        "        [INPUTS]:\n",
        "        df: a pandas dataframe. \n",
        "          The image information dataframe, obtained from function \"get_data()\".\n",
        "        datatype: string. \n",
        "          Whether it is 'train' or 'test'. \n",
        "        \n",
        "        \"\"\"\n",
        "        self.df = df\n",
        "        if datatype != 'test':\n",
        "            self.data_folder = f\"{path}/train_images\"\n",
        "        else:\n",
        "            self.data_folder = f\"{path}/test_images\"\n",
        "        self.img_ids = img_ids\n",
        "        self.transforms = transforms\n",
        "        self.preprocessing = preprocessing\n",
        "\n",
        "    def __getitem__(self, idx):\n",
        "        image_name = self.img_ids[idx]\n",
        "        mask = make_mask(self.df, image_name)\n",
        "        image_path = os.path.join(self.data_folder, image_name)\n",
        "        img = cv2.imread(image_path)\n",
        "        img = cv2.cvtColor(img, cv2.COLOR_BGR2RGB)\n",
        "        augmented = self.transforms(image=img, mask=mask)\n",
        "        img = augmented['image']\n",
        "        mask = augmented['mask']\n",
        "        if self.preprocessing:\n",
        "            preprocessed = self.preprocessing(image=img, mask=mask)\n",
        "            img = preprocessed['image']\n",
        "            mask = preprocessed['mask']\n",
        "        return img, mask\n",
        "\n",
        "    def __len__(self):\n",
        "        return len(self.img_ids)"
      ],
      "execution_count": 0,
      "outputs": []
    },
    {
      "cell_type": "markdown",
      "metadata": {
        "id": "PWZg9HaYFvhw",
        "colab_type": "text"
      },
      "source": [
        "From the \\_\\_getitem\\_\\_() method we can tell that the 'y' in the training data actually is the mask, which has a shape of (W, L, 4). The value of the mask is binary. "
      ]
    },
    {
      "cell_type": "markdown",
      "metadata": {
        "id": "56Ya9bUAKjun",
        "colab_type": "text"
      },
      "source": [
        "# Load Dataset"
      ]
    },
    {
      "cell_type": "code",
      "metadata": {
        "id": "VQfkzO6Xpvu0",
        "colab_type": "code",
        "outputId": "9526a742-bf43-4c8a-81fc-d221fe7085d4",
        "colab": {
          "base_uri": "https://localhost:8080/",
          "height": 101
        }
      },
      "source": [
        "train, sub = get_data(path)"
      ],
      "execution_count": 9,
      "outputs": [
        {
          "output_type": "stream",
          "text": [
            "Reading the training csv...\n",
            "Index(['Image_Label', 'EncodedPixels'], dtype='object')\n",
            "(22184, 2)\n",
            "Reading the training images...\n",
            "There are 5546 images in the original train dataset\n"
          ],
          "name": "stdout"
        }
      ]
    },
    {
      "cell_type": "code",
      "metadata": {
        "id": "h8MGjXL8Lhhs",
        "colab_type": "code",
        "outputId": "3d673984-c028-4aa4-baab-96042d4141e9",
        "colab": {
          "base_uri": "https://localhost:8080/",
          "height": 212
        }
      },
      "source": [
        "print(train.shape)\n",
        "train.head()"
      ],
      "execution_count": 10,
      "outputs": [
        {
          "output_type": "stream",
          "text": [
            "(22184, 4)\n"
          ],
          "name": "stdout"
        },
        {
          "output_type": "execute_result",
          "data": {
            "text/html": [
              "<div>\n",
              "<style scoped>\n",
              "    .dataframe tbody tr th:only-of-type {\n",
              "        vertical-align: middle;\n",
              "    }\n",
              "\n",
              "    .dataframe tbody tr th {\n",
              "        vertical-align: top;\n",
              "    }\n",
              "\n",
              "    .dataframe thead th {\n",
              "        text-align: right;\n",
              "    }\n",
              "</style>\n",
              "<table border=\"1\" class=\"dataframe\">\n",
              "  <thead>\n",
              "    <tr style=\"text-align: right;\">\n",
              "      <th></th>\n",
              "      <th>Image_Label</th>\n",
              "      <th>EncodedPixels</th>\n",
              "      <th>label</th>\n",
              "      <th>im_id</th>\n",
              "    </tr>\n",
              "  </thead>\n",
              "  <tbody>\n",
              "    <tr>\n",
              "      <th>0</th>\n",
              "      <td>0011165.jpg_Fish</td>\n",
              "      <td>264918 937 266318 937 267718 937 269118 937 27...</td>\n",
              "      <td>Fish</td>\n",
              "      <td>0011165.jpg</td>\n",
              "    </tr>\n",
              "    <tr>\n",
              "      <th>1</th>\n",
              "      <td>0011165.jpg_Flower</td>\n",
              "      <td>1355565 1002 1356965 1002 1358365 1002 1359765...</td>\n",
              "      <td>Flower</td>\n",
              "      <td>0011165.jpg</td>\n",
              "    </tr>\n",
              "    <tr>\n",
              "      <th>2</th>\n",
              "      <td>0011165.jpg_Gravel</td>\n",
              "      <td>NaN</td>\n",
              "      <td>Gravel</td>\n",
              "      <td>0011165.jpg</td>\n",
              "    </tr>\n",
              "    <tr>\n",
              "      <th>3</th>\n",
              "      <td>0011165.jpg_Sugar</td>\n",
              "      <td>NaN</td>\n",
              "      <td>Sugar</td>\n",
              "      <td>0011165.jpg</td>\n",
              "    </tr>\n",
              "    <tr>\n",
              "      <th>4</th>\n",
              "      <td>002be4f.jpg_Fish</td>\n",
              "      <td>233813 878 235213 878 236613 878 238010 881 23...</td>\n",
              "      <td>Fish</td>\n",
              "      <td>002be4f.jpg</td>\n",
              "    </tr>\n",
              "  </tbody>\n",
              "</table>\n",
              "</div>"
            ],
            "text/plain": [
              "          Image_Label  ...        im_id\n",
              "0    0011165.jpg_Fish  ...  0011165.jpg\n",
              "1  0011165.jpg_Flower  ...  0011165.jpg\n",
              "2  0011165.jpg_Gravel  ...  0011165.jpg\n",
              "3   0011165.jpg_Sugar  ...  0011165.jpg\n",
              "4    002be4f.jpg_Fish  ...  002be4f.jpg\n",
              "\n",
              "[5 rows x 4 columns]"
            ]
          },
          "metadata": {
            "tags": []
          },
          "execution_count": 10
        }
      ]
    },
    {
      "cell_type": "code",
      "metadata": {
        "id": "nyZ7_7zoqXST",
        "colab_type": "code",
        "colab": {}
      },
      "source": [
        "display_images_with_masks(path, train)"
      ],
      "execution_count": 0,
      "outputs": []
    },
    {
      "cell_type": "code",
      "metadata": {
        "id": "SKDmxazevrkS",
        "colab_type": "code",
        "outputId": "c7fa1c6b-f103-4473-c31d-32987246c27f",
        "colab": {
          "base_uri": "https://localhost:8080/",
          "height": 67
        }
      },
      "source": [
        "train_ids, valid_ids, test_ids = split_data(train, sub)\n",
        "\n",
        "print('The size of training sample:', train_ids.shape)\n",
        "print('The size of validation sample:', valid_ids.shape)\n",
        "print('The size of testing sample:', test_ids.shape)"
      ],
      "execution_count": 11,
      "outputs": [
        {
          "output_type": "stream",
          "text": [
            "The size of training sample: (4991,)\n",
            "The size of validation sample: (555,)\n",
            "The size of testing sample: (3698,)\n"
          ],
          "name": "stdout"
        }
      ]
    },
    {
      "cell_type": "markdown",
      "metadata": {
        "id": "76uu3wAFBCpw",
        "colab_type": "text"
      },
      "source": [
        "# Build the Model"
      ]
    },
    {
      "cell_type": "code",
      "metadata": {
        "id": "VJYPOUyw3IpZ",
        "colab_type": "code",
        "outputId": "80cf2678-c8e4-4e10-ebb1-bc2cd69a86ea",
        "colab": {
          "base_uri": "https://localhost:8080/",
          "height": 118
        }
      },
      "source": [
        "DEVICE = 'cuda'\n",
        "\n",
        "# ENCODER = 'resnet50'\n",
        "ENCODER = 'inceptionresnetv2'\n",
        "ENCODER_WEIGHTS = 'imagenet'\n",
        "ACTIVATION = None\n",
        "model = smp.Unet(\n",
        "    encoder_name=ENCODER, \n",
        "    encoder_weights=ENCODER_WEIGHTS, \n",
        "    classes=4, \n",
        "    activation=ACTIVATION,\n",
        ")\n",
        "preprocessing_fn = smp.encoders.get_preprocessing_fn(ENCODER, ENCODER_WEIGHTS)\n",
        "\n",
        "num_workers = 0\n",
        "bs = 16\n",
        "train_dataset = CloudDataset(df=train, datatype='train', img_ids=train_ids, \n",
        "                             transforms = get_training_augmentation(), \n",
        "                             preprocessing=get_preprocessing(preprocessing_fn))\n",
        "\n",
        "valid_dataset = CloudDataset(df=train, datatype='valid', img_ids=valid_ids, \n",
        "                             transforms = get_validation_augmentation(), \n",
        "                             preprocessing=get_preprocessing(preprocessing_fn))\n",
        "\n",
        "train_loader = DataLoader(train_dataset, batch_size=bs, shuffle=True, \n",
        "                          num_workers=num_workers)\n",
        "valid_loader = DataLoader(valid_dataset, batch_size=bs, shuffle=False, \n",
        "                          num_workers=num_workers)\n",
        "\n",
        "loaders = {\n",
        "    \"train\": train_loader,\n",
        "    \"valid\": valid_loader\n",
        "}"
      ],
      "execution_count": 12,
      "outputs": [
        {
          "output_type": "stream",
          "text": [
            "Downloading: \"http://data.lip6.fr/cadene/pretrainedmodels/inceptionresnetv2-520b38e4.pth\" to /root/.cache/torch/checkpoints/inceptionresnetv2-520b38e4.pth\n",
            "100%|██████████| 213M/213M [10:39<00:00, 350kB/s]\n",
            "/usr/local/lib/python3.6/dist-packages/albumentations/augmentations/transforms.py:2247: UserWarning:\n",
            "\n",
            "Using lambda is incompatible with multiprocessing. Consider using regular functions or partial().\n",
            "\n"
          ],
          "name": "stderr"
        }
      ]
    },
    {
      "cell_type": "code",
      "metadata": {
        "id": "eQ0BQc0kUMIl",
        "colab_type": "code",
        "colab": {
          "base_uri": "https://localhost:8080/",
          "height": 336
        },
        "outputId": "0ddda8a1-38e9-4c63-8b7b-7d01d556e779"
      },
      "source": [
        "num_epochs = 19\n",
        "logdir = '/content/gdrive/My Drive/kaggle_cloud/log_inceptionresnetv2'\n",
        "\n",
        "# model, criterion, optimizer\n",
        "optimizer = torch.optim.Adam([\n",
        "    {'params': model.decoder.parameters(), 'lr': 1e-2}, \n",
        "    {'params': model.encoder.parameters(), 'lr': 1e-3},  \n",
        "])\n",
        "\n",
        "opt_level = 'O1'\n",
        "model.cuda()\n",
        "model, optimizer = amp.initialize(model, optimizer, opt_level=opt_level)\n",
        "\n",
        "scheduler = ReduceLROnPlateau(optimizer, factor=0.15, patience=2)\n",
        "criterion = smp.utils.losses.BCEDiceLoss(eps=1.)\n",
        "runner = SupervisedRunner()"
      ],
      "execution_count": 13,
      "outputs": [
        {
          "output_type": "stream",
          "text": [
            "Selected optimization level O1:  Insert automatic casts around Pytorch functions and Tensor methods.\n",
            "\n",
            "Defaults for this optimization level are:\n",
            "enabled                : True\n",
            "opt_level              : O1\n",
            "cast_model_type        : None\n",
            "patch_torch_functions  : True\n",
            "keep_batchnorm_fp32    : None\n",
            "master_weights         : None\n",
            "loss_scale             : dynamic\n",
            "Processing user overrides (additional kwargs that are not None)...\n",
            "After processing overrides, optimization options are:\n",
            "enabled                : True\n",
            "opt_level              : O1\n",
            "cast_model_type        : None\n",
            "patch_torch_functions  : True\n",
            "keep_batchnorm_fp32    : None\n",
            "master_weights         : None\n",
            "loss_scale             : dynamic\n"
          ],
          "name": "stdout"
        }
      ]
    },
    {
      "cell_type": "code",
      "metadata": {
        "id": "SbESLniG9ov7",
        "colab_type": "code",
        "colab": {
          "base_uri": "https://localhost:8080/",
          "height": 1000
        },
        "outputId": "d4b2f3a0-d81b-4bda-887d-7bb9162b0965"
      },
      "source": [
        "runner.train(\n",
        "    model=model,\n",
        "    criterion=criterion,\n",
        "    optimizer=optimizer,\n",
        "    scheduler=scheduler,\n",
        "    loaders=loaders,\n",
        "    callbacks=[DiceCallback(), EarlyStoppingCallback(patience=5, min_delta=0.001)],\n",
        "    logdir=logdir,\n",
        "    num_epochs=num_epochs,\n",
        "    verbose=True\n",
        ")"
      ],
      "execution_count": 15,
      "outputs": [
        {
          "output_type": "stream",
          "text": [
            "1/19 * Epoch (train): 100% 312/312 [50:50<00:00, 10.11s/it, dice=0.456, loss=0.841]\n",
            "1/19 * Epoch (valid): 100% 35/35 [04:04<00:00,  6.43s/it, dice=0.374, loss=1.068]\n",
            "[2019-11-11 01:25:46,588] \n",
            "1/19 * Epoch 1 (train): _base/lr=0.0010 | _base/momentum=0.9000 | _timers/_fps=1.8385 | _timers/batch_time=8.7384 | _timers/data_time=8.6485 | _timers/model_time=0.0898 | dice=0.3961 | loss=0.9596\n",
            "1/19 * Epoch 1 (valid): _base/lr=0.0010 | _base/momentum=0.9000 | _timers/_fps=2.3953 | _timers/batch_time=6.7466 | _timers/data_time=6.6974 | _timers/model_time=0.0491 | dice=0.4150 | loss=1.0052\n",
            "2/19 * Epoch (train): 100% 312/312 [24:25<00:00,  4.62s/it, dice=0.386, loss=0.950]\n",
            "2/19 * Epoch (valid): 100% 35/35 [01:08<00:00,  1.79s/it, dice=0.492, loss=0.854]\n",
            "[2019-11-11 01:51:37,273] \n",
            "2/19 * Epoch 2 (train): _base/lr=0.0100 | _base/momentum=0.9000 | _timers/_fps=4.4030 | _timers/batch_time=3.6571 | _timers/data_time=3.5686 | _timers/model_time=0.0884 | dice=0.4514 | loss=0.8804\n",
            "2/19 * Epoch 2 (valid): _base/lr=0.0100 | _base/momentum=0.9000 | _timers/_fps=9.3638 | _timers/batch_time=1.7173 | _timers/data_time=1.6675 | _timers/model_time=0.0498 | dice=0.4651 | loss=0.9440\n",
            "3/19 * Epoch (train): 100% 312/312 [24:30<00:00,  4.56s/it, dice=0.468, loss=0.799]\n",
            "3/19 * Epoch (valid): 100% 35/35 [01:07<00:00,  1.74s/it, dice=0.494, loss=0.816]\n",
            "[2019-11-11 02:17:31,754] \n",
            "3/19 * Epoch 3 (train): _base/lr=0.0100 | _base/momentum=0.9000 | _timers/_fps=4.3843 | _timers/batch_time=3.6743 | _timers/data_time=3.5859 | _timers/model_time=0.0884 | dice=0.4694 | loss=0.8555\n",
            "3/19 * Epoch 3 (valid): _base/lr=0.0100 | _base/momentum=0.9000 | _timers/_fps=9.6105 | _timers/batch_time=1.6724 | _timers/data_time=1.6233 | _timers/model_time=0.0490 | dice=0.4916 | loss=0.8390\n",
            "4/19 * Epoch (train): 100% 312/312 [24:29<00:00,  4.49s/it, dice=0.517, loss=0.798]\n",
            "4/19 * Epoch (valid): 100% 35/35 [01:08<00:00,  1.79s/it, dice=0.531, loss=0.794]\n",
            "[2019-11-11 02:43:19,435] \n",
            "4/19 * Epoch 4 (train): _base/lr=0.0100 | _base/momentum=0.9000 | _timers/_fps=4.3887 | _timers/batch_time=3.6696 | _timers/data_time=3.5810 | _timers/model_time=0.0884 | dice=0.4786 | loss=0.8413\n",
            "4/19 * Epoch 4 (valid): _base/lr=0.0100 | _base/momentum=0.9000 | _timers/_fps=9.4285 | _timers/batch_time=1.7048 | _timers/data_time=1.6551 | _timers/model_time=0.0496 | dice=0.4797 | loss=0.9245\n",
            "5/19 * Epoch (train): 100% 312/312 [24:54<00:00,  4.69s/it, dice=0.415, loss=0.919]\n",
            "5/19 * Epoch (valid): 100% 35/35 [01:08<00:00,  1.79s/it, dice=0.484, loss=0.847]\n",
            "[2019-11-11 03:09:33,890] \n",
            "5/19 * Epoch 5 (train): _base/lr=0.0100 | _base/momentum=0.9000 | _timers/_fps=4.2885 | _timers/batch_time=3.7522 | _timers/data_time=3.6632 | _timers/model_time=0.0889 | dice=0.4871 | loss=0.8260\n",
            "5/19 * Epoch 5 (valid): _base/lr=0.0100 | _base/momentum=0.9000 | _timers/_fps=9.3740 | _timers/batch_time=1.7150 | _timers/data_time=1.6653 | _timers/model_time=0.0496 | dice=0.5026 | loss=0.8447\n",
            "6/19 * Epoch (train): 100% 312/312 [24:50<00:00,  4.67s/it, dice=0.509, loss=0.833]\n",
            "6/19 * Epoch (valid): 100% 35/35 [01:10<00:00,  1.89s/it, dice=0.505, loss=0.795]\n",
            "[2019-11-11 03:35:46,780] \n",
            "6/19 * Epoch 6 (train): _base/lr=0.0100 | _base/momentum=0.9000 | _timers/_fps=4.3117 | _timers/batch_time=3.7382 | _timers/data_time=3.6497 | _timers/model_time=0.0883 | dice=0.4923 | loss=0.8186\n",
            "6/19 * Epoch 6 (valid): _base/lr=0.0100 | _base/momentum=0.9000 | _timers/_fps=9.0326 | _timers/batch_time=1.7794 | _timers/data_time=1.7285 | _timers/model_time=0.0508 | dice=0.4979 | loss=0.8451\n",
            "7/19 * Epoch (train): 100% 312/312 [25:40<00:00,  4.96s/it, dice=0.500, loss=0.805]\n",
            "7/19 * Epoch (valid): 100% 35/35 [01:11<00:00,  1.87s/it, dice=0.519, loss=0.783]\n",
            "[2019-11-11 04:02:55,471] \n",
            "7/19 * Epoch 7 (train): _base/lr=0.0015 | _base/momentum=0.9000 | _timers/_fps=4.1328 | _timers/batch_time=3.8941 | _timers/data_time=3.8054 | _timers/model_time=0.0885 | dice=0.5108 | loss=0.7871\n",
            "7/19 * Epoch 7 (valid): _base/lr=0.0015 | _base/momentum=0.9000 | _timers/_fps=8.9298 | _timers/batch_time=1.7994 | _timers/data_time=1.7491 | _timers/model_time=0.0502 | dice=0.5411 | loss=0.7621\n",
            "8/19 * Epoch (train): 100% 312/312 [25:34<00:00,  4.80s/it, dice=0.525, loss=0.726]\n",
            "8/19 * Epoch (valid): 100% 35/35 [01:11<00:00,  1.84s/it, dice=0.537, loss=0.748]\n",
            "[2019-11-11 04:29:52,073] \n",
            "8/19 * Epoch 8 (train): _base/lr=0.0015 | _base/momentum=0.9000 | _timers/_fps=4.1507 | _timers/batch_time=3.8776 | _timers/data_time=3.7890 | _timers/model_time=0.0885 | dice=0.5165 | loss=0.7777\n",
            "8/19 * Epoch 8 (valid): _base/lr=0.0015 | _base/momentum=0.9000 | _timers/_fps=8.9926 | _timers/batch_time=1.7872 | _timers/data_time=1.7365 | _timers/model_time=0.0506 | dice=0.5375 | loss=0.7655\n",
            "9/19 * Epoch (train): 100% 312/312 [25:14<00:00,  4.69s/it, dice=0.527, loss=0.706]\n",
            "9/19 * Epoch (valid): 100% 35/35 [01:10<00:00,  1.81s/it, dice=0.533, loss=0.768]\n",
            "[2019-11-11 04:56:33,334] \n",
            "9/19 * Epoch 9 (train): _base/lr=0.0015 | _base/momentum=0.9000 | _timers/_fps=4.2196 | _timers/batch_time=3.8144 | _timers/data_time=3.7251 | _timers/model_time=0.0891 | dice=0.5226 | loss=0.7667\n",
            "9/19 * Epoch 9 (valid): _base/lr=0.0015 | _base/momentum=0.9000 | _timers/_fps=9.1328 | _timers/batch_time=1.7600 | _timers/data_time=1.7086 | _timers/model_time=0.0513 | dice=0.5465 | loss=0.7611\n",
            "10/19 * Epoch (train): 100% 312/312 [25:39<00:00,  4.88s/it, dice=0.560, loss=0.702]\n",
            "10/19 * Epoch (valid): 100% 35/35 [01:10<00:00,  1.83s/it, dice=0.529, loss=0.761]\n",
            "[2019-11-11 05:23:40,319] \n",
            "10/19 * Epoch 10 (train): _base/lr=0.0015 | _base/momentum=0.9000 | _timers/_fps=4.1346 | _timers/batch_time=3.8940 | _timers/data_time=3.8054 | _timers/model_time=0.0885 | dice=0.5198 | loss=0.7753\n",
            "10/19 * Epoch 10 (valid): _base/lr=0.0015 | _base/momentum=0.9000 | _timers/_fps=9.0231 | _timers/batch_time=1.7823 | _timers/data_time=1.7323 | _timers/model_time=0.0499 | dice=0.5447 | loss=0.7523\n",
            "11/19 * Epoch (train): 100% 312/312 [25:23<00:00,  4.61s/it, dice=0.552, loss=0.740]\n",
            "11/19 * Epoch (valid): 100% 35/35 [01:11<00:00,  1.85s/it, dice=0.528, loss=0.774]\n",
            "[2019-11-11 05:50:26,517] \n",
            "11/19 * Epoch 11 (train): _base/lr=0.0015 | _base/momentum=0.9000 | _timers/_fps=4.1911 | _timers/batch_time=3.8420 | _timers/data_time=3.7527 | _timers/model_time=0.0892 | dice=0.5271 | loss=0.7638\n",
            "11/19 * Epoch 11 (valid): _base/lr=0.0015 | _base/momentum=0.9000 | _timers/_fps=8.9352 | _timers/batch_time=1.7995 | _timers/data_time=1.7492 | _timers/model_time=0.0502 | dice=0.5455 | loss=0.7613\n",
            "12/19 * Epoch (train): 100% 312/312 [25:22<00:00,  4.63s/it, dice=0.497, loss=0.907]\n",
            "12/19 * Epoch (valid): 100% 35/35 [01:09<00:00,  1.81s/it, dice=0.511, loss=0.782]\n",
            "[2019-11-11 06:17:10,131] \n",
            "12/19 * Epoch 12 (train): _base/lr=0.0015 | _base/momentum=0.9000 | _timers/_fps=4.1890 | _timers/batch_time=3.8397 | _timers/data_time=3.7510 | _timers/model_time=0.0885 | dice=0.5295 | loss=0.7597\n",
            "12/19 * Epoch 12 (valid): _base/lr=0.0015 | _base/momentum=0.9000 | _timers/_fps=9.1988 | _timers/batch_time=1.7474 | _timers/data_time=1.6979 | _timers/model_time=0.0494 | dice=0.5372 | loss=0.7601\n",
            "13/19 * Epoch (train): 100% 312/312 [25:17<00:00,  4.77s/it, dice=0.507, loss=0.906]\n",
            "13/19 * Epoch (valid): 100% 35/35 [01:10<00:00,  1.83s/it, dice=0.529, loss=0.764]\n",
            "[2019-11-11 06:43:47,936] \n",
            "13/19 * Epoch 13 (train): _base/lr=0.0015 | _base/momentum=0.9000 | _timers/_fps=4.2085 | _timers/batch_time=3.8215 | _timers/data_time=3.7329 | _timers/model_time=0.0885 | dice=0.5288 | loss=0.7599\n",
            "13/19 * Epoch 13 (valid): _base/lr=0.0015 | _base/momentum=0.9000 | _timers/_fps=9.1425 | _timers/batch_time=1.7575 | _timers/data_time=1.7077 | _timers/model_time=0.0497 | dice=0.5445 | loss=0.7528\n",
            "14/19 * Epoch (train): 100% 312/312 [25:34<00:00,  4.72s/it, dice=0.537, loss=0.685]\n",
            "14/19 * Epoch (valid): 100% 35/35 [01:11<00:00,  1.86s/it, dice=0.534, loss=0.756]\n",
            "[2019-11-11 07:10:51,512] \n",
            "14/19 * Epoch 14 (train): _base/lr=0.0002 | _base/momentum=0.9000 | _timers/_fps=4.1496 | _timers/batch_time=3.8775 | _timers/data_time=3.7888 | _timers/model_time=0.0886 | dice=0.5386 | loss=0.7422\n",
            "14/19 * Epoch 14 (valid): _base/lr=0.0002 | _base/momentum=0.9000 | _timers/_fps=8.8798 | _timers/batch_time=1.8092 | _timers/data_time=1.7578 | _timers/model_time=0.0513 | dice=0.5492 | loss=0.7453\n",
            "15/19 * Epoch (train): 100% 312/312 [25:39<00:00,  4.62s/it, dice=0.568, loss=0.687]\n",
            "15/19 * Epoch (valid): 100% 35/35 [01:11<00:00,  1.87s/it, dice=0.531, loss=0.764]\n",
            "[2019-11-11 07:37:53,552] \n",
            "15/19 * Epoch 15 (train): _base/lr=0.0002 | _base/momentum=0.9000 | _timers/_fps=4.1349 | _timers/batch_time=3.8932 | _timers/data_time=3.8039 | _timers/model_time=0.0891 | dice=0.5391 | loss=0.7414\n",
            "15/19 * Epoch 15 (valid): _base/lr=0.0002 | _base/momentum=0.9000 | _timers/_fps=8.9216 | _timers/batch_time=1.8022 | _timers/data_time=1.7518 | _timers/model_time=0.0504 | dice=0.5518 | loss=0.7454\n",
            "16/19 * Epoch (train): 100% 312/312 [25:36<00:00,  4.90s/it, dice=0.553, loss=0.718]\n",
            "16/19 * Epoch (valid): 100% 35/35 [01:11<00:00,  1.85s/it, dice=0.535, loss=0.754]\n",
            "[2019-11-11 08:04:52,753] \n",
            "16/19 * Epoch 16 (train): _base/lr=0.0002 | _base/momentum=0.9000 | _timers/_fps=4.1446 | _timers/batch_time=3.8832 | _timers/data_time=3.7945 | _timers/model_time=0.0886 | dice=0.5373 | loss=0.7442\n",
            "16/19 * Epoch 16 (valid): _base/lr=0.0002 | _base/momentum=0.9000 | _timers/_fps=8.9952 | _timers/batch_time=1.7874 | _timers/data_time=1.7366 | _timers/model_time=0.0507 | dice=0.5504 | loss=0.7454\n",
            "17/19 * Epoch (train): 100% 312/312 [25:33<00:00,  4.81s/it, dice=0.498, loss=0.854]\n",
            "17/19 * Epoch (valid): 100% 35/35 [01:11<00:00,  1.83s/it, dice=0.531, loss=0.765]\n",
            "[2019-11-11 08:31:48,129] \n",
            "17/19 * Epoch 17 (train): _base/lr=0.0002 | _base/momentum=0.9000 | _timers/_fps=4.1557 | _timers/batch_time=3.8746 | _timers/data_time=3.7853 | _timers/model_time=0.0892 | dice=0.5387 | loss=0.7429\n",
            "17/19 * Epoch 17 (valid): _base/lr=0.0002 | _base/momentum=0.9000 | _timers/_fps=9.0076 | _timers/batch_time=1.7868 | _timers/data_time=1.7363 | _timers/model_time=0.0504 | dice=0.5503 | loss=0.7479\n",
            "18/19 * Epoch (train): 100% 312/312 [25:22<00:00,  4.64s/it, dice=0.539, loss=0.734]\n",
            "18/19 * Epoch (valid): 100% 35/35 [01:10<00:00,  1.84s/it, dice=0.535, loss=0.751]\n",
            "[2019-11-11 08:58:32,150] \n",
            "18/19 * Epoch 18 (train): _base/lr=3.375e-05 | _base/momentum=0.9000 | _timers/_fps=4.1943 | _timers/batch_time=3.8398 | _timers/data_time=3.7512 | _timers/model_time=0.0885 | dice=0.5416 | loss=0.7380\n",
            "18/19 * Epoch 18 (valid): _base/lr=3.375e-05 | _base/momentum=0.9000 | _timers/_fps=9.0802 | _timers/batch_time=1.7707 | _timers/data_time=1.7202 | _timers/model_time=0.0505 | dice=0.5495 | loss=0.7465\n",
            "19/19 * Epoch (train): 100% 312/312 [25:23<00:00,  4.75s/it, dice=0.563, loss=0.680]\n",
            "19/19 * Epoch (valid): 100% 35/35 [01:10<00:00,  1.84s/it, dice=0.526, loss=0.765]\n",
            "Early stop at 18 epoch\n",
            "[2019-11-11 09:25:17,130] \n",
            "19/19 * Epoch 19 (train): _base/lr=3.375e-05 | _base/momentum=0.9000 | _timers/_fps=4.1902 | _timers/batch_time=3.8425 | _timers/data_time=3.7539 | _timers/model_time=0.0885 | dice=0.5384 | loss=0.7417\n",
            "19/19 * Epoch 19 (valid): _base/lr=3.375e-05 | _base/momentum=0.9000 | _timers/_fps=9.0479 | _timers/batch_time=1.7764 | _timers/data_time=1.7264 | _timers/model_time=0.0500 | dice=0.5470 | loss=0.7473\n",
            "Top best models:\n",
            "/content/gdrive/My Drive/kaggle_cloud/log_inceptionresnetv2/checkpoints/train.14.pth\t0.7453\n"
          ],
          "name": "stdout"
        }
      ]
    },
    {
      "cell_type": "markdown",
      "metadata": {
        "id": "jk4m76X-s8Ga",
        "colab_type": "text"
      },
      "source": [
        "# Visualize the Model Accuracy"
      ]
    },
    {
      "cell_type": "code",
      "metadata": {
        "id": "A0Bs4az9OeO1",
        "colab_type": "code",
        "colab": {}
      },
      "source": [
        "import json\n",
        "metric_file = '/content/gdrive/My Drive/kaggle_cloud/run_log1109/checkpoints/_metrics.json'\n",
        "\n",
        "with open(metric_file, 'r') as f:\n",
        "  metrics = json.load(f)"
      ],
      "execution_count": 0,
      "outputs": []
    },
    {
      "cell_type": "code",
      "metadata": {
        "id": "MhTvL6y2PW7J",
        "colab_type": "code",
        "outputId": "d3be45a8-67c5-4bd3-9c64-b8750fe7b91f",
        "colab": {
          "base_uri": "https://localhost:8080/",
          "height": 222
        }
      },
      "source": [
        "print(metrics.keys())\n",
        "metrics['epoch_6']"
      ],
      "execution_count": 0,
      "outputs": [
        {
          "output_type": "stream",
          "text": [
            "dict_keys(['best', 'last', 'train.19', 'epoch_0', 'epoch_1', 'epoch_2', 'epoch_3', 'epoch_4', 'epoch_5', 'epoch_6', 'epoch_7', 'epoch_8', 'epoch_9', 'epoch_10', 'epoch_11', 'epoch_12', 'epoch_13', 'epoch_14', 'epoch_15', 'epoch_16', 'epoch_17', 'epoch_18'])\n"
          ],
          "name": "stdout"
        },
        {
          "output_type": "execute_result",
          "data": {
            "text/plain": [
              "['/content/gdrive/My Drive/kaggle_cloud/run_log1109/checkpoints/train.7.pth',\n",
              " 0.8074309161731174,\n",
              " {'_base/lr': 0.01,\n",
              "  '_base/momentum': 0.9,\n",
              "  '_timers/_fps': 9.615288928372232,\n",
              "  '_timers/batch_time': 1.6704837254115512,\n",
              "  '_timers/data_time': 1.6501800673348563,\n",
              "  '_timers/model_time': 0.020228951317923415,\n",
              "  'dice': 0.5196731337479185,\n",
              "  'loss': 0.8074309161731174}]"
            ]
          },
          "metadata": {
            "tags": []
          },
          "execution_count": 56
        }
      ]
    },
    {
      "cell_type": "code",
      "metadata": {
        "id": "vUyJ0yoptRgq",
        "colab_type": "code",
        "colab": {}
      },
      "source": [
        "def plot_metrics_json(metric_file, metric_name, n_epochs, do_save_fig=False, figname=None):\n",
        "  \"\"\"\n",
        "  Plot the change of a metric in the training process saved in a *.json file.\n",
        "\n",
        "  metric_name: str. \n",
        "    The name of the metric variable. Choose from: '_base/lr', 'dice', 'loss'. \n",
        "  \"\"\"\n",
        "\n",
        "  with open(metric_file, 'r') as fm: \n",
        "    metrics = json.load(fm)\n",
        "\n",
        "    metric_hist = []\n",
        "    for i in range(n_epochs):\n",
        "      metric_i = metrics['epoch_{}'.format(i)][2][metric_name]\n",
        "      metric_hist.append(metric_i)\n",
        "\n",
        "  plt.plot(range(n_epochs), metric_hist)\n",
        "  plt.xlabel('Epochs')\n",
        "  plt.ylabel(metric_name)\n",
        "\n",
        "  if do_save_fig:\n",
        "    if not figname:\n",
        "      figname = metric_file.replace('_metrics.json', metric_name + '.png')\n",
        "      print(figname)\n",
        "    plt.savefig(figname)"
      ],
      "execution_count": 0,
      "outputs": []
    },
    {
      "cell_type": "code",
      "metadata": {
        "id": "K4Cf57CGwZ2k",
        "colab_type": "code",
        "outputId": "5072a294-8d1e-4785-c45d-e8a38307faa9",
        "colab": {
          "base_uri": "https://localhost:8080/",
          "height": 296
        }
      },
      "source": [
        "plot_metrics_json(metric_file, metric_name='loss', n_epochs=18, do_save_fig=True)"
      ],
      "execution_count": 0,
      "outputs": [
        {
          "output_type": "stream",
          "text": [
            "/content/gdrive/My Drive/kaggle_cloud/run_log1109/checkpoints/loss.png\n"
          ],
          "name": "stdout"
        },
        {
          "output_type": "display_data",
          "data": {
            "image/png": "[encoded data removed]",
            "text/plain": [
              "<Figure size 432x288 with 1 Axes>"
            ]
          },
          "metadata": {
            "tags": []
          }
        }
      ]
    },
    {
      "cell_type": "code",
      "metadata": {
        "id": "H1jtFAVD4Wuj",
        "colab_type": "code",
        "outputId": "dc625bd1-94ee-4cfe-8c47-9ac2d984bc17",
        "colab": {
          "base_uri": "https://localhost:8080/",
          "height": 279
        }
      },
      "source": [
        "plot_metrics_json(metric_file, metric_name='dice', n_epochs=18)"
      ],
      "execution_count": 0,
      "outputs": [
        {
          "output_type": "display_data",
          "data": {
            "image/png": "[encoded data removed]",
            "text/plain": [
              "<Figure size 432x288 with 1 Axes>"
            ]
          },
          "metadata": {
            "tags": []
          }
        }
      ]
    },
    {
      "cell_type": "code",
      "metadata": {
        "id": "5Qh2LREI4bjx",
        "colab_type": "code",
        "outputId": "64d2d486-9af2-4f0d-8991-8ef01e98daae",
        "colab": {
          "base_uri": "https://localhost:8080/",
          "height": 279
        }
      },
      "source": [
        "plot_metrics_json(metric_file, metric_name='_base/lr', n_epochs=18)"
      ],
      "execution_count": 0,
      "outputs": [
        {
          "output_type": "display_data",
          "data": {
            "image/png": "[encoded data removed]",
            "text/plain": [
              "<Figure size 432x288 with 1 Axes>"
            ]
          },
          "metadata": {
            "tags": []
          }
        }
      ]
    },
    {
      "cell_type": "markdown",
      "metadata": {
        "id": "CbieS0yi5-GV",
        "colab_type": "text"
      },
      "source": [
        "# Load the Model and Make Inference"
      ]
    },
    {
      "cell_type": "code",
      "metadata": {
        "id": "F1CDQO6nJ7Lm",
        "colab_type": "code",
        "colab": {}
      },
      "source": [
        "# Step 1. Load the trained model\n",
        "logdir = '/content/gdrive/My Drive/kaggle_cloud/log_inceptionresnetv2/'\n",
        "path_to_checkpoint = os.path.join(logdir, 'checkpoints/best_full.pth')\n",
        "checkpoint = torch.load(path_to_checkpoint)\n",
        "\n",
        "model.load_state_dict(checkpoint['model_state_dict'])\n",
        "optimizer.load_state_dict(checkpoint['optimizer_state_dict'])\n",
        "runner = SupervisedRunner(model=model)"
      ],
      "execution_count": 0,
      "outputs": []
    },
    {
      "cell_type": "code",
      "metadata": {
        "id": "pE3KQr1LM-7L",
        "colab_type": "code",
        "outputId": "f4a4118b-e5eb-42a5-93fa-6a7fb3a45d32",
        "colab": {
          "base_uri": "https://localhost:8080/",
          "height": 34
        }
      },
      "source": [
        "checkpoint.keys()"
      ],
      "execution_count": 0,
      "outputs": [
        {
          "output_type": "execute_result",
          "data": {
            "text/plain": [
              "dict_keys(['epoch_metrics', 'valid_metrics', 'stage', 'epoch', 'checkpoint_data', 'model_state_dict', 'criterion_state_dict', 'optimizer_state_dict', 'scheduler_state_dict'])"
            ]
          },
          "metadata": {
            "tags": []
          },
          "execution_count": 16
        }
      ]
    },
    {
      "cell_type": "code",
      "metadata": {
        "id": "dKJ_fCWh71KP",
        "colab_type": "code",
        "outputId": "a70ce0d6-2b08-4e7e-904e-d1c31da39e81",
        "colab": {
          "base_uri": "https://localhost:8080/",
          "height": 34
        }
      },
      "source": [
        "# Step 3. Make predictions\n",
        "import gc\n",
        "torch.cuda.empty_cache()\n",
        "gc.collect()"
      ],
      "execution_count": 0,
      "outputs": [
        {
          "output_type": "execute_result",
          "data": {
            "text/plain": [
              "25122"
            ]
          },
          "metadata": {
            "tags": []
          },
          "execution_count": 17
        }
      ]
    },
    {
      "cell_type": "code",
      "metadata": {
        "id": "PKdI_N9O7w55",
        "colab_type": "code",
        "outputId": "82e2838d-ab06-4ad1-e38a-27defc1f3d8b",
        "colab": {
          "base_uri": "https://localhost:8080/",
          "height": 101
        }
      },
      "source": [
        "# Step 2. Select the \"best parameters\"\n",
        "encoded_pixels = []\n",
        "loaders = {\"infer\": valid_loader}\n",
        "runner.infer(\n",
        "    model=model,\n",
        "    loaders=loaders,\n",
        "    callbacks=[\n",
        "        CheckpointCallback(\n",
        "            resume=f\"{logdir}/checkpoints/best.pth\"),\n",
        "        InferCallback()\n",
        "    ],\n",
        ")\n",
        "valid_masks = []\n",
        "probabilities = np.zeros((2220, 350, 525))\n",
        "for i, (batch, output) in enumerate(tqdm.tqdm(zip(\n",
        "        valid_dataset, runner.callbacks[0].predictions[\"logits\"]))):\n",
        "    image, mask = batch\n",
        "    for m in mask:\n",
        "        if m.shape != (350, 525):\n",
        "            m = cv2.resize(m, dsize=(525, 350), interpolation=cv2.INTER_LINEAR)\n",
        "        valid_masks.append(m)\n",
        "\n",
        "    for j, probability in enumerate(output):\n",
        "        if probability.shape != (350, 525):\n",
        "            probability = cv2.resize(probability, dsize=(525, 350), interpolation=cv2.INTER_LINEAR)\n",
        "        probabilities[i * 4 + j, :, :] = probability"
      ],
      "execution_count": 0,
      "outputs": [
        {
          "output_type": "stream",
          "text": [
            "=> loading checkpoint /content/gdrive/My Drive/kaggle_cloud/run_log1109/checkpoints/best.pth\n",
            "loaded checkpoint /content/gdrive/My Drive/kaggle_cloud/run_log1109/checkpoints/best.pth (epoch 19)\n",
            "Top best models:\n",
            "\n"
          ],
          "name": "stdout"
        },
        {
          "output_type": "stream",
          "text": [
            "555it [01:09,  7.94it/s]\n"
          ],
          "name": "stderr"
        }
      ]
    },
    {
      "cell_type": "code",
      "metadata": {
        "id": "3ooerVvkBkFF",
        "colab_type": "code",
        "outputId": "abbc93d6-adf4-461e-9c34-c82f29e9c2a3",
        "colab": {
          "base_uri": "https://localhost:8080/",
          "height": 504
        }
      },
      "source": [
        "# For each class, find a best parameter ('threshold' and 'size')\n",
        "class_params = {}\n",
        "for class_id in range(4):\n",
        "    print(class_id)\n",
        "    attempts = []\n",
        "    for t in range(0, 100, 5):\n",
        "        t /= 100\n",
        "        for ms in [0, 100, 1200, 5000, 10000]:\n",
        "            masks = []\n",
        "            for i in range(class_id, len(probabilities), 4):\n",
        "                probability = probabilities[i]\n",
        "                predict, num_predict = post_process(sigmoid(probability), t, ms)\n",
        "                masks.append(predict)\n",
        "\n",
        "            d = []\n",
        "            for i, j in zip(masks, valid_masks[class_id::4]):\n",
        "                if (i.sum() == 0) & (j.sum() == 0):\n",
        "                    d.append(1)\n",
        "                else:\n",
        "                    d.append(dice(i, j))\n",
        "\n",
        "            attempts.append((t, ms, np.mean(d)))\n",
        "\n",
        "    attempts_df = pd.DataFrame(attempts, columns=['threshold', 'size', 'dice'])\n",
        "\n",
        "\n",
        "    attempts_df = attempts_df.sort_values('dice', ascending=False)\n",
        "    print(attempts_df.head())\n",
        "    best_threshold = attempts_df['threshold'].values[0]\n",
        "    best_size = attempts_df['size'].values[0]\n",
        "    \n",
        "    class_params[class_id] = (best_threshold, best_size)\n",
        "\n",
        "print(class_params)"
      ],
      "execution_count": 0,
      "outputs": [
        {
          "output_type": "stream",
          "text": [
            "0\n",
            "    threshold   size      dice\n",
            "64       0.60  10000  0.617677\n",
            "59       0.55  10000  0.614424\n",
            "44       0.40  10000  0.611265\n",
            "69       0.65  10000  0.609774\n",
            "54       0.50  10000  0.609170\n",
            "1\n",
            "    threshold   size      dice\n",
            "39       0.35  10000  0.760165\n",
            "53       0.50   5000  0.760070\n",
            "44       0.40  10000  0.759396\n",
            "59       0.55  10000  0.759296\n",
            "48       0.45   5000  0.758921\n",
            "2\n",
            "    threshold   size      dice\n",
            "74       0.70  10000  0.601254\n",
            "59       0.55  10000  0.600889\n",
            "69       0.65  10000  0.599362\n",
            "64       0.60  10000  0.598662\n",
            "79       0.75  10000  0.597799\n",
            "3\n",
            "    threshold   size      dice\n",
            "54       0.50  10000  0.621536\n",
            "59       0.55  10000  0.618383\n",
            "49       0.45  10000  0.615997\n",
            "64       0.60  10000  0.614372\n",
            "63       0.60   5000  0.614245\n",
            "{0: (0.6, 10000), 1: (0.35, 10000), 2: (0.7, 10000), 3: (0.5, 10000)}\n"
          ],
          "name": "stdout"
        }
      ]
    },
    {
      "cell_type": "code",
      "metadata": {
        "id": "OfsJwqb774yw",
        "colab_type": "code",
        "outputId": "693ec180-341e-4a89-f890-89491c9d9322",
        "colab": {
          "base_uri": "https://localhost:8080/",
          "height": 168
        }
      },
      "source": [
        "test_dataset = CloudDataset(df=sub, datatype='test', img_ids=test_ids, transforms = get_validation_augmentation(), preprocessing=get_preprocessing(preprocessing_fn))\n",
        "test_loader = DataLoader(test_dataset, batch_size=8, shuffle=False, num_workers=0)\n",
        "\n",
        "loaders = {\"test\": test_loader}\n",
        "\n",
        "encoded_pixels = []\n",
        "image_id = 0\n",
        "for i, test_batch in enumerate(tqdm.tqdm(loaders['test'])):\n",
        "    runner_out = runner.predict_batch({\"features\": test_batch[0].cuda()})['logits']\n",
        "    for i, batch in enumerate(runner_out):\n",
        "        for probability in batch:\n",
        "            \n",
        "            probability = probability.cpu().detach().numpy()\n",
        "            if probability.shape != (350, 525):\n",
        "                probability = cv2.resize(probability, dsize=(525, 350), interpolation=cv2.INTER_LINEAR)\n",
        "            predict, num_predict = post_process(sigmoid(probability), class_params[image_id % 4][0], class_params[image_id % 4][1])\n",
        "            if num_predict == 0:\n",
        "                encoded_pixels.append('')\n",
        "            else:\n",
        "                r = mask2rle(predict)\n",
        "                encoded_pixels.append(r)\n",
        "            image_id += 1\n",
        "\n",
        "sub['EncodedPixels'] = encoded_pixels\n",
        "sub.to_csv(os.path.join(logdir, 'submission.csv'), columns=['Image_Label', 'EncodedPixels'], index=False)"
      ],
      "execution_count": 0,
      "outputs": [
        {
          "output_type": "stream",
          "text": [
            "/usr/local/lib/python3.6/dist-packages/albumentations/augmentations/transforms.py:2247: UserWarning:\n",
            "\n",
            "Using lambda is incompatible with multiprocessing. Consider using regular functions or partial().\n",
            "\n",
            " 24%|██▍       | 113/463 [10:00<26:13,  4.50s/it]/usr/local/lib/python3.6/dist-packages/ipykernel_launcher.py:148: RuntimeWarning:\n",
            "\n",
            "overflow encountered in exp\n",
            "\n",
            "100%|██████████| 463/463 [36:33<00:00,  4.74s/it]\n"
          ],
          "name": "stderr"
        }
      ]
    },
    {
      "cell_type": "code",
      "metadata": {
        "id": "Y4MDm23qf1Go",
        "colab_type": "code",
        "colab": {}
      },
      "source": [
        ""
      ],
      "execution_count": 0,
      "outputs": []
    }
  ]
}
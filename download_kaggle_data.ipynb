{
  "nbformat": 4,
  "nbformat_minor": 0,
  "metadata": {
    "colab": {
      "name": "download_kaggle_data.ipynb",
      "provenance": [],
      "include_colab_link": true
    },
    "kernelspec": {
      "name": "python3",
      "display_name": "Python 3"
    }
  },
  "cells": [
    {
      "cell_type": "markdown",
      "metadata": {
        "id": "view-in-github",
        "colab_type": "text"
      },
      "source": [
        "<a href=\"https://colab.research.google.com/github/lkforward/I_know_the_cloud/blob/master/download_kaggle_data.ipynb\" target=\"_parent\"><img src=\"https://colab.research.google.com/assets/colab-badge.svg\" alt=\"Open In Colab\"/></a>"
      ]
    },
    {
      "cell_type": "markdown",
      "metadata": {
        "id": "h0tYQtwMDpzB",
        "colab_type": "text"
      },
      "source": [
        "The purpose of this notebook is to download the training data for the competition into a google drive folder. \n",
        "\n",
        "**Reference**: https://medium.com/@erdemalpkaya/run-kaggle-kernel-on-google-colab-1a71803460a9"
      ]
    },
    {
      "cell_type": "code",
      "metadata": {
        "id": "yG8N_fXYBa_K",
        "colab_type": "code",
        "colab": {}
      },
      "source": [
        "# Upload the jason file\n",
        "from google.colab import files\n",
        "files.upload()"
      ],
      "execution_count": 0,
      "outputs": []
    },
    {
      "cell_type": "code",
      "metadata": {
        "id": "x-KT3lDQC6TR",
        "colab_type": "code",
        "colab": {
          "base_uri": "https://localhost:8080/",
          "height": 34
        },
        "outputId": "99dbc3d6-2fd6-49cd-e5d4-28c62805105a"
      },
      "source": [
        "# Install the kaggle tool:\n",
        "!pip install -q kaggle\n",
        "!mkdir -p ~/.kaggle\n",
        "!cp kaggle.json ~/.kaggle/\n",
        "!ls ~/.kaggle\n",
        "# we need to set permissions \n",
        "!chmod 600 /root/.kaggle/kaggle.json"
      ],
      "execution_count": 3,
      "outputs": [
        {
          "output_type": "stream",
          "text": [
            "kaggle.json\n"
          ],
          "name": "stdout"
        }
      ]
    },
    {
      "cell_type": "code",
      "metadata": {
        "id": "bGHQr6CMDXjX",
        "colab_type": "code",
        "colab": {
          "base_uri": "https://localhost:8080/",
          "height": 54
        },
        "outputId": "fa6e94a0-a7c2-4b54-ec7b-c710bca2f17f"
      },
      "source": [
        "# check the Kaggle API is running the following code \n",
        "# !kaggle kernels list — user 'lkforward' — sort-by dateRun\n",
        "!kaggle kernels list --user 'lkforward'"
      ],
      "execution_count": 18,
      "outputs": [
        {
          "output_type": "stream",
          "text": [
            "500 - An internal server error occurred. Please ensure that your API client is up to date. If it is, please report a bug at github.com/Kaggle/kaggle-api\n"
          ],
          "name": "stdout"
        }
      ]
    },
    {
      "cell_type": "code",
      "metadata": {
        "id": "6Ve3JUeQF6xx",
        "colab_type": "code",
        "colab": {
          "base_uri": "https://localhost:8080/",
          "height": 121
        },
        "outputId": "e5936ff5-9702-4eac-aa3c-3b38866c3436"
      },
      "source": [
        "from google.colab import drive\n",
        "drive.mount('/content/gdrive')\n",
        "\n",
        "import os\n",
        "os.chdir('/content/gdrive/My Drive/kaggle_cloud/data')\n",
        "!ls"
      ],
      "execution_count": 20,
      "outputs": [
        {
          "output_type": "stream",
          "text": [
            "Go to this URL in a browser: https://accounts.google.com/o/oauth2/auth?client_id=947318989803-6bn6qk8qdgf4n4g3pfee6491hc0brc4i.apps.googleusercontent.com&redirect_uri=urn%3Aietf%3Awg%3Aoauth%3A2.0%3Aoob&scope=email%20https%3A%2F%2Fwww.googleapis.com%2Fauth%2Fdocs.test%20https%3A%2F%2Fwww.googleapis.com%2Fauth%2Fdrive%20https%3A%2F%2Fwww.googleapis.com%2Fauth%2Fdrive.photos.readonly%20https%3A%2F%2Fwww.googleapis.com%2Fauth%2Fpeopleapi.readonly&response_type=code\n",
            "\n",
            "Enter your authorization code:\n",
            "··········\n",
            "Mounted at /content/gdrive\n"
          ],
          "name": "stdout"
        }
      ]
    },
    {
      "cell_type": "code",
      "metadata": {
        "id": "t2lFTsVzD8G1",
        "colab_type": "code",
        "colab": {
          "base_uri": "https://localhost:8080/",
          "height": 34
        },
        "outputId": "ca1713c2-c567-44e2-f302-6c5689d237da"
      },
      "source": [
        "!pwd"
      ],
      "execution_count": 21,
      "outputs": [
        {
          "output_type": "stream",
          "text": [
            "/content/gdrive/My Drive/kaggle_cloud/data\n"
          ],
          "name": "stdout"
        }
      ]
    },
    {
      "cell_type": "code",
      "metadata": {
        "id": "kRLybj2XF4CH",
        "colab_type": "code",
        "colab": {
          "base_uri": "https://localhost:8080/",
          "height": 235
        },
        "outputId": "cbddbfba-df51-49d7-9cf1-38c2d632ea09"
      },
      "source": [
        "!kaggle competitions download -c understanding_cloud_organization"
      ],
      "execution_count": 23,
      "outputs": [
        {
          "output_type": "stream",
          "text": [
            "Warning: Looks like you're using an outdated API Version, please consider updating (server 1.5.6 / client 1.5.4)\n",
            "Downloading train_images.zip to /content/gdrive/My Drive/kaggle_cloud/data\n",
            "100% 3.44G/3.44G [01:24<00:00, 52.0MB/s]\n",
            "100% 3.44G/3.44G [01:24<00:00, 43.7MB/s]\n",
            "Downloading test_images.zip to /content/gdrive/My Drive/kaggle_cloud/data\n",
            "100% 2.29G/2.30G [02:29<00:00, 34.9MB/s]\n",
            "100% 2.30G/2.30G [02:29<00:00, 16.6MB/s]\n",
            "Downloading train.csv.zip to /content/gdrive/My Drive/kaggle_cloud/data\n",
            " 90% 49.0M/54.2M [00:01<00:00, 26.2MB/s]\n",
            "100% 54.2M/54.2M [00:01<00:00, 38.6MB/s]\n",
            "Downloading sample_submission.csv to /content/gdrive/My Drive/kaggle_cloud/data\n",
            "  0% 0.00/321k [00:00<?, ?B/s]\n",
            "100% 321k/321k [00:00<00:00, 44.6MB/s]\n"
          ],
          "name": "stdout"
        }
      ]
    },
    {
      "cell_type": "code",
      "metadata": {
        "id": "ov0u5RUTGkIu",
        "colab_type": "code",
        "colab": {}
      },
      "source": [
        "!unzip -q train_images.zip -d train_images/"
      ],
      "execution_count": 0,
      "outputs": []
    },
    {
      "cell_type": "code",
      "metadata": {
        "id": "ClzWCWznHhtQ",
        "colab_type": "code",
        "colab": {}
      },
      "source": [
        "!unzip -q train.csv.zip -d train.csv\n",
        "!unzip -q test_images.zip -d test_images/"
      ],
      "execution_count": 0,
      "outputs": []
    },
    {
      "cell_type": "code",
      "metadata": {
        "id": "YDDJkZcfIbsX",
        "colab_type": "code",
        "colab": {
          "base_uri": "https://localhost:8080/",
          "height": 50
        },
        "outputId": "a4706197-c87e-4016-98cb-04a63ab78f2f"
      },
      "source": [
        "!ls"
      ],
      "execution_count": 27,
      "outputs": [
        {
          "output_type": "stream",
          "text": [
            "sample_submission.csv  test_images.zip\ttrain.csv.zip  train_images.zip\n",
            "test_images\t       train.csv\ttrain_images\n"
          ],
          "name": "stdout"
        }
      ]
    },
    {
      "cell_type": "code",
      "metadata": {
        "id": "smDDgjjIJhuv",
        "colab_type": "code",
        "colab": {}
      },
      "source": [
        ""
      ],
      "execution_count": 0,
      "outputs": []
    }
  ]
}
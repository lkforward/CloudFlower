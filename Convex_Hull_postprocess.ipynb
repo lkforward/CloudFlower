{
  "nbformat": 4,
  "nbformat_minor": 0,
  "metadata": {
    "colab": {
      "name": "Convex_Hull_postprocess.ipynb",
      "provenance": [],
      "collapsed_sections": [],
      "include_colab_link": true
    },
    "kernelspec": {
      "name": "python3",
      "display_name": "Python 3"
    }
  },
  "cells": [
    {
      "cell_type": "markdown",
      "metadata": {
        "id": "view-in-github",
        "colab_type": "text"
      },
      "source": [
        "<a href=\"https://colab.research.google.com/github/lkforward/flower/blob/master/Convex_Hull_postprocess.ipynb\" target=\"_parent\"><img src=\"https://colab.research.google.com/assets/colab-badge.svg\" alt=\"Open In Colab\"/></a>"
      ]
    },
    {
      "cell_type": "markdown",
      "metadata": {
        "id": "vMjU-9BxKSay",
        "colab_type": "text"
      },
      "source": [
        "The purpose of this notebook is to post-process the mask from our model into more \"regular\" shape and see if that can improve the score.\n",
        "\n",
        "Reference: A public kernel on Kaggle https://www.kaggle.com/ratthachat/cloud-convexhull-polygon-postprocessing-no-gpu."
      ]
    },
    {
      "cell_type": "code",
      "metadata": {
        "id": "NWL_JVhXLoXt",
        "colab_type": "code",
        "colab": {
          "base_uri": "https://localhost:8080/",
          "height": 121
        },
        "outputId": "36551967-24a3-4737-dc4f-8694e1b42c25"
      },
      "source": [
        "# Mount the google drive first\n",
        "from google.colab import drive\n",
        "drive.mount('/content/gdrive', force_remount=True)"
      ],
      "execution_count": 2,
      "outputs": [
        {
          "output_type": "stream",
          "text": [
            "Go to this URL in a browser: https://accounts.google.com/o/oauth2/auth?client_id=947318989803-6bn6qk8qdgf4n4g3pfee6491hc0brc4i.apps.googleusercontent.com&redirect_uri=urn%3aietf%3awg%3aoauth%3a2.0%3aoob&response_type=code&scope=email%20https%3a%2f%2fwww.googleapis.com%2fauth%2fdocs.test%20https%3a%2f%2fwww.googleapis.com%2fauth%2fdrive%20https%3a%2f%2fwww.googleapis.com%2fauth%2fdrive.photos.readonly%20https%3a%2f%2fwww.googleapis.com%2fauth%2fpeopleapi.readonly\n",
            "\n",
            "Enter your authorization code:\n",
            "··········\n",
            "Mounted at /content/gdrive\n"
          ],
          "name": "stdout"
        }
      ]
    },
    {
      "cell_type": "code",
      "metadata": {
        "id": "iQH4bkqQNRzB",
        "colab_type": "code",
        "colab": {}
      },
      "source": [
        "import cv2\n",
        "import os\n",
        "import numpy as np # linear algebra\n",
        "import pandas as pd # data processing, CSV file I/O (e.g. pd.read_csv)\n",
        "import matplotlib.pyplot as plt\n",
        "%matplotlib inline\n",
        "\n",
        "from tqdm import tqdm_notebook as tqdm\n",
        "\n",
        "from os.path import join\n",
        "# os.listdir('../input/')"
      ],
      "execution_count": 0,
      "outputs": []
    },
    {
      "cell_type": "markdown",
      "metadata": {
        "id": "r2Jf40FRKpkv",
        "colab_type": "text"
      },
      "source": [
        "# Helper Functions"
      ]
    },
    {
      "cell_type": "code",
      "metadata": {
        "id": "kllaCFgTKgWF",
        "colab_type": "code",
        "colab": {}
      },
      "source": [
        "# helper functions\n",
        "# credits: https://www.kaggle.com/artgor/segmentation-in-pytorch-using-convenient-tools\n",
        "class_names = ['Fish', 'Flower', 'Sugar', 'Gravel']\n",
        "def rle_decode(mask_rle: str = '', shape = (1400, 2100)):\n",
        "    '''\n",
        "    Decode rle encoded mask.\n",
        "    \n",
        "    :param mask_rle: run-length as string formatted (start length)\n",
        "    :param shape: (height, width) of array to return \n",
        "    Returns numpy array, 1 - mask, 0 - background\n",
        "    '''\n",
        "    s = mask_rle.split()\n",
        "    starts, lengths = [np.asarray(x, dtype=int) for x in (s[0:][::2], s[1:][::2])]\n",
        "    starts -= 1\n",
        "    ends = starts + lengths\n",
        "    img = np.zeros(shape[0] * shape[1], dtype=np.uint8)\n",
        "    for lo, hi in zip(starts, ends):\n",
        "        img[lo:hi] = 1\n",
        "    \n",
        "    return img.reshape(shape, order='F')\n",
        "\n",
        "def mask2rle(img):\n",
        "    '''\n",
        "    Convert mask to rle.\n",
        "    img: numpy array, 1 - mask, 0 - background\n",
        "    Returns run length as string formated\n",
        "    '''\n",
        "    pixels= img.T.flatten()\n",
        "    pixels = np.concatenate([[0], pixels, [0]])\n",
        "    runs = np.where(pixels[1:] != pixels[:-1])[0] + 1\n",
        "    runs[1::2] -= runs[::2]\n",
        "    return ' '.join(str(x) for x in runs)\n",
        "\n",
        "def make_mask(df, image_label, shape = (1400, 2100), cv_shape = (525, 350),debug=False):\n",
        "    \"\"\"\n",
        "    Create mask based on df, image name and shape.\n",
        "    \"\"\"\n",
        "    if debug:\n",
        "        print(shape,cv_shape)\n",
        "    df = df.set_index('Image_Label')\n",
        "    encoded_mask = df.loc[image_label, 'EncodedPixels']\n",
        "#     print('encode: ',encoded_mask[:10])\n",
        "    mask = np.zeros((shape[0], shape[1]), dtype=np.float32)\n",
        "    if encoded_mask is not np.nan:\n",
        "        mask = rle_decode(encoded_mask,shape=shape) # original size\n",
        "            \n",
        "    return cv2.resize(mask, cv_shape)\n",
        "\n",
        "min_size = [10000 ,10000, 10000, 10000]\n",
        "def post_process_minsize(mask, min_size):\n",
        "    \"\"\"\n",
        "    Post processing of each predicted mask, components with lesser number of pixels\n",
        "    than `min_size` are ignored\n",
        "    \"\"\"\n",
        "    \n",
        "    num_component, component = cv2.connectedComponents(mask.astype(np.uint8))\n",
        "    predictions = np.zeros(mask.shape)\n",
        "    num = 0\n",
        "    for c in range(1, num_component):\n",
        "        p = (component == c)\n",
        "        if p.sum() > min_size:\n",
        "            predictions[p] = 1\n",
        "            num += 1\n",
        "    return predictions #, num"
      ],
      "execution_count": 0,
      "outputs": []
    },
    {
      "cell_type": "code",
      "metadata": {
        "id": "2hJTIEl-LhO8",
        "colab_type": "code",
        "colab": {}
      },
      "source": [
        "def show_image(image,figsize=None,title=None):\n",
        "    \n",
        "    if figsize is not None:\n",
        "        fig = plt.figure(figsize=figsize)\n",
        "#     else: # crash!!\n",
        "#         fig = plt.figure()\n",
        "        \n",
        "    if image.ndim == 2:\n",
        "        plt.imshow(image,cmap='gray')\n",
        "    else:\n",
        "        plt.imshow(image)\n",
        "        \n",
        "    if title is not None:\n",
        "        plt.title(title)\n",
        "        \n",
        "def show_Nimages(imgs,scale=1):\n",
        "\n",
        "    N=len(imgs)\n",
        "    fig = plt.figure(figsize=(25/scale, 16/scale))\n",
        "    for i, img in enumerate(imgs):\n",
        "        ax = fig.add_subplot(1, N, i + 1, xticks=[], yticks=[])\n",
        "        show_image(img)\n",
        "    plt.show()\n",
        "\n",
        "def draw_masks(img2,img_mask_list):\n",
        "    \n",
        "    img = img2.copy()\n",
        "    for ii in range(4): # for each of the 4 masks\n",
        "        color_mask = np.zeros(img2.shape)\n",
        "        temp_mask = np.ones([img2.shape[0],img2.shape[1]])*127./255.\n",
        "        temp_mask[img_mask_list[ii] == 0] = 0\n",
        "        if ii < 3: # use different color for each mask\n",
        "            color_mask[:,:,ii] = temp_mask\n",
        "        else:\n",
        "            color_mask[:,:,0],color_mask[:,:,1],color_mask[:,:,2] = temp_mask,temp_mask,temp_mask # broadcasting to 3 channels\n",
        "    \n",
        "        img += color_mask\n",
        "        \n",
        "    return img"
      ],
      "execution_count": 0,
      "outputs": []
    },
    {
      "cell_type": "markdown",
      "metadata": {
        "id": "LJ3vYXkBKhbu",
        "colab_type": "text"
      },
      "source": [
        "# Read the Raw Results"
      ]
    },
    {
      "cell_type": "code",
      "metadata": {
        "id": "GH4DUuqFNfab",
        "colab_type": "code",
        "colab": {
          "base_uri": "https://localhost:8080/",
          "height": 34
        },
        "outputId": "f79deae9-7500-4e3d-f138-5d95d5203ed3"
      },
      "source": [
        "rst_path = '/content/gdrive/My Drive/kaggle_cloud/log_inceptionresnetv2'\n",
        "sub = pd.read_csv(join(rst_path, 'submission.csv'))\n",
        "sub.shape"
      ],
      "execution_count": 6,
      "outputs": [
        {
          "output_type": "execute_result",
          "data": {
            "text/plain": [
              "(14792, 2)"
            ]
          },
          "metadata": {
            "tags": []
          },
          "execution_count": 6
        }
      ]
    },
    {
      "cell_type": "markdown",
      "metadata": {
        "id": "QCd94diQKwcq",
        "colab_type": "text"
      },
      "source": [
        "# \"Refine\" the Masks"
      ]
    },
    {
      "cell_type": "markdown",
      "metadata": {
        "id": "L_XpdmwbMvPy",
        "colab_type": "text"
      },
      "source": [
        "The following function is used to draw a convex-hull where you have four choices :\n",
        "\n",
        "*   Convex Hull, (mode = 'convex')\n",
        "*   Simple xy-oriented rectangle, (mode = 'rect')\n",
        "*   Minimum-area rectangle and (mode = 'min')\n",
        "*   Approximate Polygon using Douglas-Peucker algorithm (mode = 'approx')"
      ]
    },
    {
      "cell_type": "code",
      "metadata": {
        "id": "vaBb_n28KPtY",
        "colab_type": "code",
        "colab": {}
      },
      "source": [
        "def draw_convex_hull(mask, mode='convex'):\n",
        "    \n",
        "    img = np.zeros(mask.shape)\n",
        "    _, contours, hier = cv2.findContours(mask, cv2.RETR_TREE, cv2.CHAIN_APPROX_SIMPLE)\n",
        "    \n",
        "    for c in contours:\n",
        "        if mode=='rect': # simple rectangle\n",
        "            x, y, w, h = cv2.boundingRect(c)\n",
        "            cv2.rectangle(img, (x, y), (x+w, y+h), (255, 255, 255), -1)\n",
        "        elif mode=='convex': # minimum convex hull\n",
        "            hull = cv2.convexHull(c)\n",
        "            cv2.drawContours(img, [hull], 0, (255, 255, 255),-1)\n",
        "        elif mode=='approx':\n",
        "            epsilon = 0.02*cv2.arcLength(c,True)\n",
        "            approx = cv2.approxPolyDP(c,epsilon,True)\n",
        "            cv2.drawContours(img, [approx], 0, (255, 255, 255),-1)\n",
        "        else: # minimum area rectangle\n",
        "            rect = cv2.minAreaRect(c)\n",
        "            box = cv2.boxPoints(rect)\n",
        "            box = np.int0(box)\n",
        "            cv2.drawContours(img, [box], 0, (255, 255, 255),-1)\n",
        "    return img/255."
      ],
      "execution_count": 0,
      "outputs": []
    },
    {
      "cell_type": "code",
      "metadata": {
        "id": "LQbEMJ1wPvV2",
        "colab_type": "code",
        "colab": {}
      },
      "source": [
        "folder_images = '/content/gdrive/My Drive/kaggle_cloud/data/test_images'"
      ],
      "execution_count": 0,
      "outputs": []
    },
    {
      "cell_type": "code",
      "metadata": {
        "id": "MG87HYmJKd3S",
        "colab_type": "code",
        "colab": {
          "base_uri": "https://localhost:8080/",
          "height": 34
        },
        "outputId": "87d788e5-adfc-43be-fd07-73f220d17428"
      },
      "source": [
        "model_class_names=['Fish', 'Flower', 'Gravel', 'Sugar']\n",
        "\n",
        "mode='convex' # choose from 'rect', 'min', 'convex' and 'approx'\n",
        "\n",
        "img_label_list = []\n",
        "enc_pixels_list = []\n",
        "test_imgs = os.listdir(folder_images)\n",
        "\n",
        "for test_img_i, test_img in enumerate(tqdm(test_imgs)):\n",
        "    for class_i, class_name in enumerate(model_class_names):\n",
        "        \n",
        "        path = os.path.join(folder_images, test_img)\n",
        "        img = cv2.imread(path).astype(np.float32) # use already-resized ryches' dataset\n",
        "        img = img/255.\n",
        "        img2 = cv2.cvtColor(img, cv2.COLOR_BGR2GRAY)\n",
        "        \n",
        "        img_label_list.append(f'{test_img}_{class_name}')\n",
        "        \n",
        "        # import pdb; pdb.set_trace()\n",
        "        # mask = make_mask(sub, test_img + '_' + class_name,shape=(350,525))\n",
        "        mask = make_mask(sub, test_img + '_' + class_name,shape=(1400, 2100), \n",
        "                         cv_shape=(2100, 1400))\n",
        "        \n",
        "        if True:\n",
        "        #if class_name == 'Flower' or class_name =='Sugar': # you can decide to post-process for some certain classes \n",
        "            mask = draw_convex_hull(mask.astype(np.uint8), mode=mode)\n",
        "        mask[img2<=2/255.] = 0\n",
        "        mask = post_process_minsize(mask, min_size[class_i])\n",
        "        \n",
        "        if mask.sum() == 0:\n",
        "            enc_pixels_list.append(np.nan)\n",
        "        else:\n",
        "            mask = np.where(mask > 0.5, 1.0, 0.0)\n",
        "            enc_pixels_list.append(mask2rle(mask))\n",
        "            \n",
        "submission_df = pd.DataFrame({'Image_Label': img_label_list, 'EncodedPixels': enc_pixels_list})\n",
        "submission_df.to_csv(join(rst_path, 'sub_convex.csv'), index=None)"
      ],
      "execution_count": 31,
      "outputs": [
        {
          "output_type": "display_data",
          "data": {
            "application/vnd.jupyter.widget-view+json": {
              "model_id": "f6dcf21c3ada437e86713a267cdb03cc",
              "version_minor": 0,
              "version_major": 2
            },
            "text/plain": [
              "HBox(children=(IntProgress(value=0, max=3698), HTML(value='')))"
            ]
          },
          "metadata": {
            "tags": []
          }
        },
        {
          "output_type": "stream",
          "text": [
            "\n"
          ],
          "name": "stdout"
        }
      ]
    },
    {
      "cell_type": "code",
      "metadata": {
        "id": "FklSvo4DOhdL",
        "colab_type": "code",
        "colab": {}
      },
      "source": [
        ""
      ],
      "execution_count": 0,
      "outputs": []
    }
  ]
}